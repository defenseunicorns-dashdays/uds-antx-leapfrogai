{
 "cells": [
  {
   "cell_type": "code",
   "execution_count": 1,
   "id": "21514e89-5426-49db-b9dc-4f69c3e00617",
   "metadata": {},
   "outputs": [],
   "source": [
    "import sys\n",
    "sys.path.append('../')"
   ]
  },
  {
   "cell_type": "code",
   "execution_count": 2,
   "id": "981c1516-ce4f-4184-a25e-a80fd9780651",
   "metadata": {},
   "outputs": [],
   "source": [
    "%load_ext autoreload\n",
    "%autoreload 2"
   ]
  },
  {
   "cell_type": "code",
   "execution_count": 4,
   "id": "c284f6f1-a708-499a-8baa-3cdecfe627e5",
   "metadata": {},
   "outputs": [],
   "source": [
    "from dotenv import load_dotenv, find_dotenv\n",
    "_ = load_dotenv(find_dotenv(), override=True)"
   ]
  },
  {
   "cell_type": "markdown",
   "id": "3bcff046-3c24-4006-8f2a-1aa25510eec6",
   "metadata": {},
   "source": [
    "---"
   ]
  },
  {
   "cell_type": "code",
   "execution_count": 49,
   "id": "6d5fd37a-fb7d-48ae-9379-9d0eb9477876",
   "metadata": {},
   "outputs": [],
   "source": [
    "import requests\n",
    "import json\n",
    "\n",
    "import os\n",
    "import pandas as pd\n",
    "pd.set_option('display.max_colwidth', None)\n",
    "pd.set_option('display.max_rows', 100)\n",
    "\n",
    "from group_data import df_pipe\n",
    "from src.prompts.options import next_state_options\n",
    "from src.prompts.system_prompt_tracks_v2 import sys_prompt\n",
    "from src.prompts.user_prompt_tracks_v2 import (\n",
    "    examples, \n",
    "    user, \n",
    "    parse_data_object, \n",
    "    build_user_message\n",
    ")\n",
    "from src.enums.states import States\n",
    "from src.enums.tracks import track_mapping\n",
    "import tiktoken"
   ]
  },
  {
   "cell_type": "markdown",
   "id": "2c2c69b5-deba-42e8-930a-885ffee87fdf",
   "metadata": {},
   "source": [
    "### Import Data + Initialize Encoder"
   ]
  },
  {
   "cell_type": "code",
   "execution_count": 50,
   "id": "358f9384-0092-425d-b247-ac92aa6aed7e",
   "metadata": {},
   "outputs": [],
   "source": [
    "data_path = '/Users/americanthinker/Downloads/antx_data/2024-05-14_all_tracks.csv'\n",
    "data = df_pipe(data_path, fill_state=False, merge_tracks=True)\n",
    "encoder = tiktoken.get_encoding('cl100k_base')"
   ]
  },
  {
   "cell_type": "code",
   "execution_count": 51,
   "id": "6f3f7883-ea41-44d2-8db6-a28eb94cd14c",
   "metadata": {},
   "outputs": [
    {
     "data": {
      "text/plain": [
       "25"
      ]
     },
     "execution_count": 51,
     "metadata": {},
     "output_type": "execute_result"
    }
   ],
   "source": [
    "#parse out only the data rows where a state change is present\n",
    "states = [{k:v} for k,v in data.items() if any(v['state'])]\n",
    "len(states)"
   ]
  },
  {
   "cell_type": "code",
   "execution_count": 52,
   "id": "cc7fce96-f65b-4d82-a67a-dcdaa193494a",
   "metadata": {},
   "outputs": [
    {
     "data": {
      "text/plain": [
       "564"
      ]
     },
     "execution_count": 52,
     "metadata": {},
     "output_type": "execute_result"
    }
   ],
   "source": [
    "keys = list(data.keys())\n",
    "len(keys)"
   ]
  },
  {
   "cell_type": "code",
   "execution_count": null,
   "id": "6160f33c-0d4d-402b-8836-7efe7c494ba8",
   "metadata": {},
   "outputs": [],
   "source": []
  },
  {
   "cell_type": "code",
   "execution_count": 53,
   "id": "e7e5af5b-3a5b-4ae9-b27c-8a0d15dd1f1b",
   "metadata": {},
   "outputs": [],
   "source": [
    "minute_value = '12:26'\n",
    "tracks = parse_data_object(data[minute_value])\n",
    "current_state = [s for s in data[minute_value]['state'] if s][0]"
   ]
  },
  {
   "cell_type": "code",
   "execution_count": 54,
   "id": "61c552a5-767b-4ccb-8152-2bc08067de43",
   "metadata": {},
   "outputs": [
    {
     "name": "stdout",
     "output_type": "stream",
     "text": [
      "\n",
      "As context you will be given a Current State and a series of radio transmissions broken out into separate tracks. \n",
      "The transmissions represent dialogue between stakeholders involved in maritime UAV test and evaluation trials.\n",
      "  \n",
      "Given the context perform the following two sequential tasks:\n",
      "1. Decide if a change to the Current State is warranted given the transmissions. \n",
      "   - If no change is warranted simply return a json object as follows:\n",
      "   - Output: {\"current_state\": <current state>}\n",
      "\n",
      "2. Based on your decision from step 1, if a change in state is warranted then choose from among the next state options and return your output to include, current state, predicted state, and your reasoning for choosing the next predicted state.  Follow the output guidelines below:\n",
      "    - Output: {\"current_state\": <current state>, \"predicted_state\": <predicted state>, \"reason\": <reason for predicted state>}\n",
      "\n",
      "\n",
      "EXAMPLES\n",
      "--------------------------\n",
      "Use the following examples as your guide for predicting whether or not to change the state and if so, what to predict:\n",
      "\n",
      "EXAMPLE 1: No change in state\n",
      "Current State:\tTrial Start\n",
      "Radio Transmissions:\n",
      "- Boat Operators: '',\n",
      "- Test Director: \"Yes. Oh, the NavWar guy, I asked him. Yes. What Grant and I were talking about is that he gets operator overload sometimes. And so if there's a call going through on the green radio, that he might not hear it if he's fully in on the headset. Our thought was, okay, well, there's a bunch of NAVOR folks in there. Honestly, I grabbed the first one that I saw. The one that came up to me was like, hey, what can I do? Like, perfect. I'm like, but he's probably not the right person for that. I don't know if it's... That's what I kind of thought, figured would happen.\"\n",
      "- Patrol Craft Command Unit (PCCU): \"Is that independent? Oh no, I didn't even hear it. Is there volume on this? What is this? Oh, independent. Oh my gosh. I've been here a year. All right. Again, I cannot stress this enough, comms is not my day job. It is today, but...\"\n",
      "Potential next state options: ['Trial End', 'Delay Start', 'Mistrial', 'Return to Base']\n",
      "Output: {\"current_state\": Trial Start}\n",
      "\n",
      "EXAMPLE 2: Delay Start prediction\n",
      "Current State:\tTrial Start\n",
      "Radio Transmissions:\n",
      "- Boat Operators: 'Gents it looks like we have some fishing vessels approaching the operational area.',\n",
      "- Test Director: \"Are you checking with her for that? 10 knots. Thank you. 2-1-1. EpiSci. I think we'll let them run for a while. I think that LBIT is still struggling.\",\n",
      "- Patrol Craft Command Unit (PCCU): \"I'm just going to confirm we're still at 10 knots. Still 10 knots. So we're almost there. What? Basically perpendicular along the box. So roughly 1, 3, 0 for all of us. I'm just going to set this to one. If anything, you start to angle out of the box a little bit, just change a little bit. So definitely stay within it.\n",
      "Potential next state options: ['Trial End', 'Delay Start', 'Mistrial', 'Return to Base']\n",
      "Output: {\"current_state\": Trial Start, \"predicted_state\": Delay Start, \"reason\": \"A fishing vessel is close to the trial area and could be a hazard to safe operations\"}\n",
      "\n",
      "EXAMPLE 3: No change in state\n",
      "Current State:\tDelay Start\n",
      "Radio Transmissions:\n",
      "- Boat Operators: 'you'\n",
      "- Test Director: \"Hello. Copy. Yeah. Do you only want them to send it if you tell them to? That one.\"\n",
      "- Patrol Craft Command Unit (PCCU): \"I was like, hey, I don't really, like, in a good way, but like, I don't really like this. This could be more efficient. Oh. Yeah, they can turn it way down. Yeah\",\n",
      "Potential next state options: ['Delay End', 'Mistrial', 'Return to Base']\n",
      "Output: {\"current_state\": Delay Start}\n",
      "\n",
      "EXAMPLE 4: Trial Start prediction\n",
      "Current State:\tDelay End\n",
      "Radio Transmissions:\n",
      "- Boat Operators: \"Do you think that's like mounting location or do you think that there is current What I'm also wondering I'm wondering if there's a boat a support boat next to red 16 between it and the radio right now If we get into, so we're ideally ramping up to a test. If we go into another PR, we're like, trying to figure shit out, at that point I would say we'll do, you got it.\",\n",
      "- Test Director: \"That's all well and good, alright enough chatter.  Go ahead and commence trial number 2-1-3.\"\n",
      "- Patrol Craft Command Unit (PCCU): \"Maybe just don't go directly at the dot. Just try to miss it by a little bit. Just in case. Yeah, and once you clear this hook a little bit more. Yeah.\"\n",
      "Potential next state options: ['Trial Start', 'Delay Start', 'Mistrial', 'Return to Base']\n",
      "Output: {\"current_state\": Delay End, \"predicted_state\": Trial Start, \"reason\": \"Radio transmission from the Test Director indicates that a new trial (2-1-3) has just commenced.\"}\n",
      "\n",
      "EXAMPLE 5: Delay Start prediction\n",
      "Current State:\tTrial Start\n",
      "Radio Transmissions:\n",
      "- Boat Operators: \"25 walk\"\n",
      "- Test Director: \"That'd be a fun upgrade. Yeah. Not fun is the right word, but I could see a use for that of being able to play back previous data. Yeah, I think of like a Ross bag or like you can still pop up in Arviz being able to do some version like that and see it propagate. Yeah, right. Yeah, let's put this on to. I'm curious at field events how much of the runway for the next series of dev presses gets generated. that's like, okay, so this is the first action that I'm hearing out of this. We're like, okay, here's a mole update. Is that a normal thing that happens at these?\"\n",
      "- Patrol Craft Command Unit (PCCU): \"Hold up now, I'm seeing several marine animals in your vicinity.\"\n",
      "Potential next state options: ['Trial End', 'Delay Start', 'Mistrial', 'Return to Base']\n",
      "Output: {\"current_state\": Trial Start, \"predicted_state\": Delay Start, \"reason\": \"Radio transmission from the PCCU indicates that there are marine animals spotted near the testing area, thus necessitating a delay in starting the trial\"}\n",
      "\n",
      "EXAMPLE 6: Mistrial prediction\n",
      "Current State:\tDelay End\n",
      "Radio Transmissions:\n",
      "- Boat Operators: \"Good afternoon, again, sir. Leaving precautionary area. Yeah, I'm joining you. Seth, I can't see Lucy Tronco on my starboard side. We'll do a search for her. Copy that, Roger. Ajo traffic, Motorcycle Manor, 10-1\"\n",
      "- Test Director: \"They're new? Okay, I'm not going crazy. They should find a boat soon, huh? What are you guys able to see on your screen? Anthony, can I ask you a question? What's going on in that window? I think I made a folder. This is getting out of hand, going to declare a mistrial.\"\n",
      "- Patrol Craft Command Unit (PCCU): \"So one more thing to give us heads up on the way in these are supposed to go 20 meters off they see something that's supposed to go around it kind of thing. They don't always do that. So like Tango 10 and Tango 20 are going right towards each other. Just be ready to do evasive maneuvers if it looks like they're like going head on. Like that one I'd zoom way in. Maybe go the circle thing. Really like the circle thing where it says like 50 meter offset or 10 meter offset, whatever it's at. The ring, yeah. Bump that to 30 meters or so, yeah. And does it, oh. Very bottom right, the lock. Yeah. And then zoom way in. Yeah. So, if it looks like within like 30 meters, how does it start going right towards each other? Yeah, you're absolutely good.\"\n",
      "Potential next state options: ['Trial Start', 'Delay Start', 'Mistrial', 'Return to Base']\n",
      "Output: {\"current_state\": Delay End, \"predicted_state\": Mistrial, \"reason\": \"Radio transmission from the Test Director indicates that operations are getting out of hand and therefore declares a mistrial.\"}\n",
      "\n",
      "--------------------------\n",
      "\n",
      "Current State: Trial End\n",
      "Radio Transmissions:\n",
      "Boat Operators: \n",
      "\n",
      "Test Director: and then a start message later. Nothing heard, send your last. Negative on the trial end. We'll just take the, stop the view. Good copy, so all call, all call, trial end. Let's have red vehicles reset and we will restart, over. Yeah. So this is. And they're controlling red in there, right? Yes. Yeah. So there are two 22-foot WAMVs and one 16-foot WAMV.\n",
      "\n",
      "Patrol Craft Command Unit (PCCU): the trial and we'll just All calls, trial end. Let's have red vehicle reset, and we will restart. Yeah, reset those bad boys. Increase to 15. Yeah, everyone, if you got that one over there. Yep, go exact opposite.\n",
      "Potential next state options: ['Trial Start', 'Delay Start', 'Mistrial', 'Return to Base']\n",
      "--------------------------\n",
      "Output:\n",
      "\n"
     ]
    }
   ],
   "source": [
    "user_message = build_user_prompt(examples, current_state, tracks, next_state_options[current_state]['Options'])\n",
    "print(user_message)"
   ]
  },
  {
   "cell_type": "code",
   "execution_count": 55,
   "id": "ec95ec49-cde0-4348-8b77-594ffdf99ecc",
   "metadata": {},
   "outputs": [
    {
     "data": {
      "text/plain": [
       "2624"
      ]
     },
     "execution_count": 55,
     "metadata": {},
     "output_type": "execute_result"
    }
   ],
   "source": [
    "len(encoder.encode(user_message + sys_prompt))"
   ]
  },
  {
   "cell_type": "code",
   "execution_count": 557,
   "id": "116db241-3121-4533-a97a-c9902931a9a8",
   "metadata": {},
   "outputs": [],
   "source": [
    "# for x in range(1,5):\n",
    "#     if x != 2:\n",
    "#         track = [t for t in df[f'track{x}'].values.tolist() if t]\n",
    "#         print(f'Track {x} length: {len(track)}')"
   ]
  },
  {
   "cell_type": "code",
   "execution_count": 12,
   "id": "8d37e011-adfb-4bcd-8a59-9bd7f9ed466e",
   "metadata": {},
   "outputs": [],
   "source": [
    "# labeled_data = states.loc[:,'track1':'state']\n",
    "# labeled_data_cleaned = []\n",
    "# labeled_data_dicts = []\n",
    "# for alist in labeled_data.values:\n",
    "#     cleaned = [text for text in alist if text]\n",
    "#     labeled_data_cleaned.append(cleaned)\n",
    "# for alist in labeled_data_cleaned:\n",
    "#     datum = {'text': ' '.join([t for t in alist[:-1]]), 'label': alist[-1]}\n",
    "# #     labeled_data_dicts.append(datum)\n",
    "# ordered_labels = [d['label'] for d in labeled_data_dicts]\n",
    "# ordered_labels"
   ]
  },
  {
   "cell_type": "markdown",
   "id": "d9560d68-9d80-4316-8b32-68df3aa1946f",
   "metadata": {},
   "source": [
    "### LLM Calls"
   ]
  },
  {
   "cell_type": "code",
   "execution_count": 13,
   "id": "e15e29c2-92d6-44e4-a626-1790ed032c59",
   "metadata": {},
   "outputs": [],
   "source": [
    "def format_response(response: requests.models.Response):\n",
    "    json_response = response.json()\n",
    "    return json_response['choices'][0]['message']['content'].strip()"
   ]
  },
  {
   "cell_type": "code",
   "execution_count": 94,
   "id": "749eb964-6799-4e8c-a9c8-a51cde4669a3",
   "metadata": {},
   "outputs": [],
   "source": [
    "def chat_completion(user_prompt: str,\n",
    "                    temperature: float=0.8,\n",
    "                    max_tokens: int=4096,\n",
    "                    stream: bool=False,\n",
    "                    raw: bool=False\n",
    "                    ) -> str | dict:\n",
    "    url = os.environ['LEAPFROG_URL']\n",
    "    api_key = os.environ['LEAPFROG_API_KEY']\n",
    "    headers = {\n",
    "    'Authorization': f'Bearer {api_key}',\n",
    "    'Content-Type': 'application/json'\n",
    "    }\n",
    "    data = {\n",
    "    \"model\": \"vllm\",\n",
    "    \"messages\": [\n",
    "        {\n",
    "            \"role\": \"system\",\n",
    "            \"content\": sys_prompt\n",
    "        },\n",
    "        {\n",
    "            \"role\": \"user\",\n",
    "            \"content\": user_prompt,\n",
    "        }\n",
    "    ],\n",
    "    \"stream\": stream,\n",
    "    \"temperature\": temperature,\n",
    "    \"max_tokens\": max_tokens\n",
    "}\n",
    "    try:\n",
    "        response = requests.post(url, headers=headers, data=json.dumps(data))\n",
    "        if response.status_code == 200:\n",
    "            if raw:\n",
    "                return response.json()\n",
    "            else: return format_response(response)\n",
    "        else:\n",
    "            print('Response is not 200')\n",
    "            return response\n",
    "    except Exception as e:\n",
    "        print(e)"
   ]
  },
  {
   "cell_type": "code",
   "execution_count": 581,
   "id": "ffb95aea-98ff-403a-a163-1479f7fafadf",
   "metadata": {},
   "outputs": [
    {
     "name": "stdout",
     "output_type": "stream",
     "text": [
      "Trial Start\n"
     ]
    }
   ],
   "source": [
    "response = chat_completion(current_state, max_tokens=250)\n",
    "response"
   ]
  },
  {
   "cell_type": "code",
   "execution_count": 62,
   "id": "e3561394-2671-4311-9cde-d3f15e3d0dca",
   "metadata": {},
   "outputs": [
    {
     "data": {
      "text/plain": [
       "'08:42'"
      ]
     },
     "execution_count": 62,
     "metadata": {},
     "output_type": "execute_result"
    }
   ],
   "source": [
    "list(states[0].keys())[0]"
   ]
  },
  {
   "cell_type": "code",
   "execution_count": null,
   "id": "34b0510c-9e80-41f9-a5b0-284b6816c674",
   "metadata": {},
   "outputs": [],
   "source": [
    "minute_value = '12:26'\n",
    "tracks = parse_data_object(data[minute_value])\n",
    "current_state = [s for s in data[minute_value]['state'] if s][0]"
   ]
  },
  {
   "cell_type": "code",
   "execution_count": 103,
   "id": "9a4bbcf7-ef98-4490-b1ef-124022acf271",
   "metadata": {},
   "outputs": [],
   "source": [
    "def test_harness(test_data: list[dict]) -> list[str]:\n",
    "    current_state = 'Trial Start'\n",
    "    responses = []\n",
    "    for i, data_point in enumerate(test_data):\n",
    "        minute_value = list(data_point.keys())[0]\n",
    "        tracks = parse_data_object(data_point[minute_value])\n",
    "        predicted_state = [s for s in data_point[minute_value]['state'] if s][0]\n",
    "        user_message = build_user_message(examples, current_state, tracks, next_state_options[current_state]['Options'])\n",
    "        responses.append({'response':chat_completion(user_message, max_tokens=250), 'label':predicted_state, 'minute': minute_value})\n",
    "        current_state = predicted_state\n",
    "    return responses"
   ]
  },
  {
   "cell_type": "code",
   "execution_count": 105,
   "id": "a2ce726a-d8c3-459b-9f08-2fffa4a2f372",
   "metadata": {},
   "outputs": [],
   "source": [
    "test = test_harness(states[1:])"
   ]
  },
  {
   "cell_type": "code",
   "execution_count": 126,
   "id": "b890a834-f7e4-4cef-a43a-a1854c31439b",
   "metadata": {},
   "outputs": [],
   "source": [
    "miss_verbiage = [\n",
    "    'To be advised, we got a helo flying low over the north corner of the field.',\n",
    "    \"Yeah. Yeah? Mistrial? Mistrial. OK. All call, all call. Trial completion, trial completion. So, yeah. It's passed. So there were, Kate filled me in, there were a few frames, maybe there was something in frame, but they didn't have a lawyer now. Go for Travis.\",\n",
    "    \"So, this will be trial two, two, one. And if you're ready, I'm gonna give the call. All call, all call. Trial 2-2-1 has begun. All call, all call. Trial 2-2-1 has begun.\",\n",
    "    \"the trial and we'll just All calls, trial end. Let's have red vehicle reset, and we will restart. Yeah, reset those bad boys.\",\n",
    "    \"I'm like a Mistrial was requested trial and trial and resetting for next trial\"\n",
    "]"
   ]
  },
  {
   "cell_type": "code",
   "execution_count": 127,
   "id": "614674a7-dac6-4bd7-b596-a82cbd1f87ff",
   "metadata": {},
   "outputs": [],
   "source": [
    "misses = 6\n",
    "hits = 5"
   ]
  },
  {
   "cell_type": "code",
   "execution_count": 128,
   "id": "895b60b1-e456-413d-9dee-9e002a10b400",
   "metadata": {},
   "outputs": [
    {
     "data": {
      "text/plain": [
       "{'12:27': {'track1': '',\n",
       "  'track3': \"OK. And that's what the economy software is on right now. Yeah. And so during this, the evolution of this event, we are gonna port this software back on the GARC. So in IBP 24.1, we put this on the GARC, but it was independent from the rest of this grouping of vehicles. So now the intention is to have it be, you know, same way that, you know, have it just be another vehicle that EpicSci is controlling. And then, are the, Not as the GARC so they have a separate low-level controller Which autopilot will call it that and that is developed by OPT, right? So yeah, the way MV ship with\",\n",
       "  'track4': \"So 310 and 15 knots. I like to just enter it directly into the field. I'm a numbers guy. I'm like a numbers guy. I'm like a numbers guy. I'm like a numbers guy. I'm like a numbers guy. I'm like a numbers guy. I'm like a numbers guy. I'm like a numbers guy. I'm like a numbers guy. I'm like a numbers guy. I'm like a numbers guy. I'm like a numbers guy. I'm like a numbers guy. I'm like a numbers guy. I'm like a numbers guy. I'm like a numbers guy. I'm like a numbers guy. I'm like a numbers guy. I'm like a numbers guy. I'm like a numbers guy. I'm like a numbers guy. I'm like a numbers guy. I'm like a numbers guy. I'm like a numbers guy. I'm like a numbers guy. I'm like a numbers guy. I'm like a numbers guy. I'm like a numbers guy. I'm like a numbers guy. I'm like a numbers guy. I'm like a Mistrial was requested trial and trial and resetting for next trial\",\n",
       "  'state': ['',\n",
       "   '',\n",
       "   '',\n",
       "   '',\n",
       "   '',\n",
       "   '',\n",
       "   '',\n",
       "   '',\n",
       "   '',\n",
       "   '',\n",
       "   '',\n",
       "   '',\n",
       "   '',\n",
       "   '',\n",
       "   '',\n",
       "   '',\n",
       "   '',\n",
       "   '',\n",
       "   '',\n",
       "   '',\n",
       "   '',\n",
       "   '',\n",
       "   '',\n",
       "   '',\n",
       "   '',\n",
       "   '',\n",
       "   '',\n",
       "   '',\n",
       "   '',\n",
       "   '',\n",
       "   '',\n",
       "   '',\n",
       "   '',\n",
       "   '',\n",
       "   '',\n",
       "   '',\n",
       "   '',\n",
       "   '',\n",
       "   '',\n",
       "   '',\n",
       "   '',\n",
       "   '',\n",
       "   '',\n",
       "   'Mistrial'],\n",
       "  'notes': ['',\n",
       "   '',\n",
       "   '',\n",
       "   '',\n",
       "   '',\n",
       "   '',\n",
       "   '',\n",
       "   '',\n",
       "   '',\n",
       "   '',\n",
       "   '',\n",
       "   '',\n",
       "   '',\n",
       "   '',\n",
       "   '',\n",
       "   '',\n",
       "   '',\n",
       "   '',\n",
       "   '',\n",
       "   '',\n",
       "   '',\n",
       "   '',\n",
       "   '',\n",
       "   '',\n",
       "   '',\n",
       "   '',\n",
       "   '',\n",
       "   '',\n",
       "   '',\n",
       "   '',\n",
       "   '',\n",
       "   '',\n",
       "   '',\n",
       "   '',\n",
       "   '',\n",
       "   '',\n",
       "   '',\n",
       "   '',\n",
       "   '',\n",
       "   '',\n",
       "   '',\n",
       "   '',\n",
       "   '',\n",
       "   ''],\n",
       "  'delay type': ['',\n",
       "   '',\n",
       "   '',\n",
       "   '',\n",
       "   '',\n",
       "   '',\n",
       "   '',\n",
       "   '',\n",
       "   '',\n",
       "   '',\n",
       "   '',\n",
       "   '',\n",
       "   '',\n",
       "   '',\n",
       "   '',\n",
       "   '',\n",
       "   '',\n",
       "   '',\n",
       "   '',\n",
       "   '',\n",
       "   '',\n",
       "   '',\n",
       "   '',\n",
       "   '',\n",
       "   '',\n",
       "   '',\n",
       "   '',\n",
       "   '',\n",
       "   '',\n",
       "   '',\n",
       "   '',\n",
       "   '',\n",
       "   '',\n",
       "   '',\n",
       "   '',\n",
       "   '',\n",
       "   '',\n",
       "   '',\n",
       "   '',\n",
       "   '',\n",
       "   '',\n",
       "   '',\n",
       "   '',\n",
       "   '']}}"
      ]
     },
     "execution_count": 128,
     "metadata": {},
     "output_type": "execute_result"
    }
   ],
   "source": [
    "states[11]"
   ]
  },
  {
   "cell_type": "code",
   "execution_count": 122,
   "id": "dbeccfd4-67ce-49fe-ab54-b4bc45469463",
   "metadata": {},
   "outputs": [
    {
     "data": {
      "text/plain": [
       "[{'response': '{\"current_state\": Trial Start}</s>',\n",
       "  'label': 'Delay Start',\n",
       "  'minute': '09:42'},\n",
       " {'response': '{\"current_state\": Delay Start}</s>',\n",
       "  'label': 'Delay Start',\n",
       "  'minute': '09:50'},\n",
       " {'response': '{\"current_state\": Delay Start, \"predicted_state\": Delay End, \"reason\": \"Radio transmission from the Test Director indicates that the issue with the network has been resolved and the trial can proceed.\"}</s>',\n",
       "  'label': 'Delay End',\n",
       "  'minute': '10:23'},\n",
       " {'response': '{\"current_state\": Delay End}</s>',\n",
       "  'label': 'Delay End',\n",
       "  'minute': '10:27'},\n",
       " {'response': '{\"current_state\": Delay End, \"predicted_state\": Trial Start, \"reason\": \"Radio transmission from the Test Director indicates that a new trial (211) has just commenced.\"}',\n",
       "  'label': 'Trial Start',\n",
       "  'minute': '11:48'},\n",
       " {'response': '{\"current_state\": Trial Start}</s>',\n",
       "  'label': 'Delay Start',\n",
       "  'minute': '11:55'},\n",
       " {'response': '{\"current_state\": Delay Start, \"predicted_state\": Delay End, \"reason\": \"Radio transmission from the Test Director indicates that the delay is ending and operations are resuming.\"}</s>',\n",
       "  'label': 'Delay End',\n",
       "  'minute': '11:56'},\n",
       " {'response': '{\"current_state\": Delay End, \"predicted_state\": Return to Base, \"reason\": \"Radio transmission from the Test Director indicates that the trial has ended and the boats are returning to their base of operations.\"}',\n",
       "  'label': 'Trial End',\n",
       "  'minute': '12:00'},\n",
       " {'response': '{\"current_state\": Trial End}</s>',\n",
       "  'label': 'Trial Start',\n",
       "  'minute': '12:20'},\n",
       " {'response': '{\"current_state\": Trial Start}</s>',\n",
       "  'label': 'Trial End',\n",
       "  'minute': '12:26'},\n",
       " {'response': '{\"current_state\": Trial End}</s>',\n",
       "  'label': 'Mistrial',\n",
       "  'minute': '12:27'},\n",
       " {'response': '{\"current_state\": \"Mistrial\", \"predicted_state\": \"Trial Start\", \"reason\": \"Radio transmission from the Test Director indicates that a new trial (2.2.2) has just commenced.\"}</s>',\n",
       "  'label': 'Trial Start',\n",
       "  'minute': '12:47'},\n",
       " {'response': '{\"current_state\": Trial Start, \"predicted_state\": Trial End, \"reason\": \"Radio transmission from the Test Director indicates that the trial is coming to an end.\"}</s>',\n",
       "  'label': 'Delay Start',\n",
       "  'minute': '12:54'},\n",
       " {'response': '{\"current_state\": Delay Start, \"predicted_state\": Delay End, \"reason\": \"Radio transmission from the Test Director indicates that the fishing vessel has exited the area and the trial can resume.\"}</s>',\n",
       "  'label': 'Delay End',\n",
       "  'minute': '13:01'},\n",
       " {'response': '{\"current_state\": Delay End, \"predicted_state\": Return to Base, \"reason\": \"Radio transmission from the Test Director indicates that the trial has ended and the boats are in transit to their base of operations.\"}</s>',\n",
       "  'label': 'Trial End',\n",
       "  'minute': '13:04'},\n",
       " {'response': '{\"current_state\": Trial End}</s>',\n",
       "  'label': 'Delay Start',\n",
       "  'minute': '13:24'},\n",
       " {'response': '{\"current_state\": Delay Start, \"predicted_state\": Delay End, \"reason\": \"Radio transmission from the Test Director indicates that the contact report test is not yet complete, thus necessitating a continuation of the delay.\"}</s>',\n",
       "  'label': 'Delay End',\n",
       "  'minute': '13:34'},\n",
       " {'response': '{\"current_state\": Delay End, \"predicted_state\": Trial Start, \"reason\": \"Radio transmission from the Test Director indicates that a new trial (223) has just commenced.\"}',\n",
       "  'label': 'Trial Start',\n",
       "  'minute': '14:30'},\n",
       " {'response': '{\"current_state\": Trial Start, \"predicted_state\": Trial End, \"reason\": \"Radio transmission from the Test Director indicates that the trial is ending and a stop message is sent to the WAMVs.\"}',\n",
       "  'label': 'Trial End',\n",
       "  'minute': '14:40'},\n",
       " {'response': '{\"current_state\": Trial End}</s>',\n",
       "  'label': 'Delay Start',\n",
       "  'minute': '14:42'},\n",
       " {'response': '{\"current_state\": Delay Start, \"predicted_state\": Delay End, \"reason\": \"Radio transmission from the Test Director indicates that the coxswains have been cleared to disband from red 22 and red 16, and the Test Director is considering fixing the contact report issue. This suggests that the delay period is coming to an end.\"}</s>',\n",
       "  'label': 'Delay End',\n",
       "  'minute': '14:59'},\n",
       " {'response': '{\"current_state\": Delay End, \"predicted_state\": Return to Base, \"reason\": \"Radio transmissions indicate that the boats are in transit to their base of operations, thus signaling the end of the trial.\"}</s>',\n",
       "  'label': 'Delay Start',\n",
       "  'minute': '15:44'},\n",
       " {'response': '{\"current_state\": Delay Start, \"predicted_state\": Delay End, \"reason\": \"Radio transmission from the Test Director indicates that the delay is ending and operations are resuming.\"}</s>',\n",
       "  'label': 'Delay End',\n",
       "  'minute': '16:05'},\n",
       " {'response': '{\"current_state\": Delay End, \"predicted_state\": Return to Base, \"reason\": \"Radio transmissions from the Test Director and Patrol Craft Command Unit (PCCU) indicate that all boats are returning to base, thus signaling the end of the trial.\"}',\n",
       "  'label': 'RTB',\n",
       "  'minute': '16:38'}]"
      ]
     },
     "execution_count": 122,
     "metadata": {},
     "output_type": "execute_result"
    }
   ],
   "source": [
    "test"
   ]
  },
  {
   "cell_type": "code",
   "execution_count": 138,
   "id": "df7516a4-58ee-443e-a39f-a458e51ea26c",
   "metadata": {},
   "outputs": [
    {
     "name": "stdout",
     "output_type": "stream",
     "text": [
      "Predicted Response: {\"current_state\": \"Trial Start\", \"predicted_state\": \"Delay Start\", \"reason\": \"A fishing vessel is close to the trial area and could be a hazard to safe operations\"}</s>\n",
      "Ground Truth: ('Be aware, we do have a fishing vessel maybe 100 yards from our location.', 'Delay Start')\n",
      "----------------------------------------------------------------------------------------------------\n",
      "Predicted Response: {\"current_state\": Delay Start, \"predicted_state\": Delay End, \"reason\": \"The text indicates that there are network problems which could delay the start of the trial.\"}</s>\n",
      "Ground Truth: (\"They're currently having network problems.\", 'Delay Start')\n",
      "----------------------------------------------------------------------------------------------------\n",
      "Predicted Response: {\"current_state\": Delay Start, \"predicted_state\": Trial Start, \"reason\": \"The text indicates that the trial will start at 1045.\"}</s>\n",
      "Ground Truth: (\"So 1015 for trial start, or I'm sorry, 1045 for trial start.\", 'Delay End')\n",
      "----------------------------------------------------------------------------------------------------\n",
      "Predicted Response: {\"current_state\": Delay End}</s>\n",
      "Ground Truth: ('Thanks, Daniel.', 'Delay End')\n",
      "----------------------------------------------------------------------------------------------------\n",
      "Predicted Response: {\"current_state\": Delay End, \"predicted_state\": Trial Start, \"reason\": \"The text indicates that a new trial (211) has just started.\"}</s>\n",
      "Ground Truth: ('Trial 211 has begun.', 'Trial Start')\n",
      "----------------------------------------------------------------------------------------------------\n",
      "Predicted Response: {\"current_state\": \"Trial Start\", \"predicted_state\": \"Delay Start\", \"reason\": \"The text indicates that a helicopter is flying low over the trial area, which could pose a safety risk.\"}</s>\n",
      "Ground Truth: ('To be advised, we got a helo flying low over the north corner of the field.', 'Delay Start')\n",
      "----------------------------------------------------------------------------------------------------\n",
      "Predicted Response: {\"current_state\": Delay Start}\n",
      "Ground Truth: (\"Just to confirm, there's no air vehicles up?\", 'Delay End')\n",
      "----------------------------------------------------------------------------------------------------\n",
      "Predicted Response: {\"current_state\": Delay End, \"predicted_state\": Trial Start, \"reason\": \"The text indicates that a trial has been completed, which suggests a new trial may start.\"}\n",
      "Ground Truth: ('Trial completion, trial completion.', 'Trial End')\n",
      "----------------------------------------------------------------------------------------------------\n",
      "Predicted Response: {\"current_state\": Trial End, \"predicted_state\": Trial Start, \"reason\": \"The text indicates that a new trial (2-2-1) has just started.\"}</s>\n",
      "Ground Truth: ('Trial 2-2-1 has begun.', 'Trial Start')\n",
      "----------------------------------------------------------------------------------------------------\n",
      "Predicted Response: {\"current_state\": \"Trial Start\", \"predicted_state\": \"Trial End\", \"reason\": \"The text indicates that the trial has ended.\"}</s>\n",
      "Ground Truth: ('Good copy, so all call, all call, trial end.', 'Trial End')\n",
      "----------------------------------------------------------------------------------------------------\n",
      "Predicted Response: {\"current_state\": Trial End, \"predicted_state\": Trial Start, \"reason\": \"The text indicates that a mistrial was requested and the trial will be reset for the next trial.\"}</s>\n",
      "Ground Truth: ('Mistrial was requested trial and trial and resetting for next trial', 'Mistrial')\n",
      "----------------------------------------------------------------------------------------------------\n",
      "Predicted Response: {\"current_state\": Mistrial, \"predicted_state\": Trial Start, \"reason\": \"The text indicates that a new trial (2.2.2) has just started.\"}</s>\n",
      "Ground Truth: ('All call, all call, trial 2.2.2, beginning now, repeat.', 'Trial Start')\n",
      "----------------------------------------------------------------------------------------------------\n",
      "Predicted Response: {\"current_state\": \"Trial Start\", \"predicted_state\": \"Delay Start\", \"reason\": \"The text indicates that a fishing vessel is cutting through the field, which could pose a hazard to the ongoing trial.\"}</s>\n",
      "Ground Truth: ('We have a fishing vessel cutting through the field, southwestern corner, about midway through.', 'Delay Start')\n",
      "----------------------------------------------------------------------------------------------------\n",
      "Predicted Response: {\"current_state\": Delay Start, \"predicted_state\": Mistrial, \"reason\": \"The text indicates that the fishing vessel is not following the directed route, which could lead to a mistrial.\"}</s>\n",
      "Ground Truth: ('Fishing vessel is exiting, but not in the route that we directed them to.', 'Delay End')\n",
      "----------------------------------------------------------------------------------------------------\n",
      "Predicted Response: {\"current_state\": Delay End, \"predicted_state\": Trial End, \"reason\": \"The text indicates that the trial has ended.\"}</s>\n",
      "Ground Truth: ('Trial end, trial end.', 'Trial End')\n",
      "----------------------------------------------------------------------------------------------------\n",
      "Predicted Response: {\"current_state\": Trial End, \"predicted_state\": Trial Start, \"reason\": \"The text indicates that Hilo is returning through, which could mean the trial is starting again.\"}</s>\n",
      "Ground Truth: (\"Be advised that Hilo's heading back through.\", 'Delay Start')\n",
      "----------------------------------------------------------------------------------------------------\n",
      "Predicted Response: {\"current_state\": Delay Start, \"predicted_state\": Delay End, \"reason\": \"The text indicates that the target has moved away from the operational area, which could mean that the delay is no longer necessary.\"}\n",
      "Ground Truth: ('Negative, we saw it head further north and then back to shore.', 'Delay End')\n",
      "----------------------------------------------------------------------------------------------------\n",
      "Predicted Response: {\"current_state\": Delay End, \"predicted_state\": Trial Start, \"reason\": \"The text indicates that a new trial (223) has just started.\"}\n",
      "Ground Truth: ('All call, all call, trial begin, trial number 223.', 'Trial Start')\n",
      "----------------------------------------------------------------------------------------------------\n",
      "Predicted Response: {\"current_state\": \"Trial Start\", \"predicted_state\": \"Trial End\", \"reason\": \"The text indicates that the trial is ending.\"}</s>\n",
      "Ground Truth: ('Trial is ending.', 'Trial End')\n",
      "----------------------------------------------------------------------------------------------------\n",
      "Predicted Response: {\"current_state\": Trial End, \"predicted_state\": Mistrial, \"reason\": \"The text indicates that the trial will need to be reset.\"}</s>\n",
      "Ground Truth: (\"We're gonna reset this trial.\", 'Mistrial')\n",
      "----------------------------------------------------------------------------------------------------\n",
      "Predicted Response: {\"current_state\": Mistrial, \"predicted_state\": Trial Start, \"reason\": \"The text indicates that the trial will need to be restarted to address the escort requirements for Red 16 and Red 22.\"}</s>\n",
      "Ground Truth: ('Red 16, red 22 both need an escort out of the zone from the support vehicles.', 'Delay Start')\n",
      "----------------------------------------------------------------------------------------------------\n",
      "Predicted Response: {\"current_state\": Delay Start, \"predicted_state\": Trial Start, \"reason\": \"The text indicates that the WAMVs are being released, which suggests that the trial is about to start.\"}</s>\n",
      "Ground Truth: ('Romeo 2-7 Papa Charlie Papa Charlie You and Tango 4 are good to release your respective WAMVs.', 'Delay End')\n",
      "----------------------------------------------------------------------------------------------------\n",
      "Predicted Response: {\"current_state\": Delay End, \"predicted_state\": Trial Start, \"reason\": \"The text indicates that the trial will need to be resumed after the delay.\"}</s>\n",
      "Ground Truth: (\"Would you prefer to tow it back or to have Tango 9 rendezvous at Tango 20's location to RC it back?\", 'Delay Start')\n",
      "----------------------------------------------------------------------------------------------------\n",
      "Predicted Response: {\"current_state\": Delay Start}</s>\n",
      "Ground Truth: (\"Yeah, copy that, that's a good location.\", 'Delay End')\n",
      "----------------------------------------------------------------------------------------------------\n",
      "Predicted Response: {\"current_state\": Delay End, \"predicted_state\": Return to Base, \"reason\": \"The text indicates that an order has been given to return to base.\"}</s>\n",
      "Ground Truth: ('Harper. Return to base.', 'RTB')\n",
      "----------------------------------------------------------------------------------------------------\n"
     ]
    }
   ],
   "source": [
    "for i, data_point in enumerate(labeled_data_dicts[1:]):\n",
    "    label = data_point['label']\n",
    "    text = data_point['text']\n",
    "    initial_state = \"Trial Start\"\n",
    "    state = initial_state if i == 0 else ordered_labels[i]\n",
    "    response = chat_completion(state, text, max_tokens=250)\n",
    "    print(f'Predicted Response: {response}')\n",
    "    print(f'Ground Truth: {text, label}')\n",
    "    print('-'*100)"
   ]
  },
  {
   "cell_type": "code",
   "execution_count": null,
   "id": "4001c506-ad49-45d3-bcee-29ab08f1037a",
   "metadata": {},
   "outputs": [],
   "source": []
  }
 ],
 "metadata": {
  "kernelspec": {
   "display_name": "leapfrog",
   "language": "python",
   "name": "leapfrog"
  },
  "language_info": {
   "codemirror_mode": {
    "name": "ipython",
    "version": 3
   },
   "file_extension": ".py",
   "mimetype": "text/x-python",
   "name": "python",
   "nbconvert_exporter": "python",
   "pygments_lexer": "ipython3",
   "version": "3.11.9"
  }
 },
 "nbformat": 4,
 "nbformat_minor": 5
}
