{
 "cells": [
  {
   "cell_type": "code",
   "execution_count": 1,
   "id": "21514e89-5426-49db-b9dc-4f69c3e00617",
   "metadata": {},
   "outputs": [],
   "source": [
    "import sys\n",
    "sys.path.append('../')"
   ]
  },
  {
   "cell_type": "code",
<<<<<<< HEAD
   "execution_count": 2,
   "id": "981c1516-ce4f-4184-a25e-a80fd9780651",
   "metadata": {},
   "outputs": [],
=======
   "execution_count": 118,
   "id": "981c1516-ce4f-4184-a25e-a80fd9780651",
   "metadata": {},
   "outputs": [
    {
     "name": "stdout",
     "output_type": "stream",
     "text": [
      "The autoreload extension is already loaded. To reload it, use:\n",
      "  %reload_ext autoreload\n"
     ]
    }
   ],
>>>>>>> af1d452 (post rebase conflict)
   "source": [
    "%load_ext autoreload\n",
    "%autoreload 2"
   ]
  },
  {
   "cell_type": "code",
<<<<<<< HEAD
   "execution_count": 3,
   "id": "c284f6f1-a708-499a-8baa-3cdecfe627e5",
   "metadata": {},
   "outputs": [],
   "source": [
    "from dotenv import load_dotenv, find_dotenv\n",
    "_ = load_dotenv(find_dotenv(), override=True)"
   ]
  },
  {
   "cell_type": "markdown",
   "id": "3bcff046-3c24-4006-8f2a-1aa25510eec6",
   "metadata": {},
   "source": [
    "---"
   ]
  },
  {
   "cell_type": "code",
   "execution_count": 4,
=======
   "execution_count": 119,
>>>>>>> af1d452 (post rebase conflict)
   "id": "6d5fd37a-fb7d-48ae-9379-9d0eb9477876",
   "metadata": {},
   "outputs": [],
   "source": [
    "import requests\n",
    "import json\n",
<<<<<<< HEAD
    "from tqdm import tqdm\n",
=======
    "from dotenv import load_dotenv, find_dotenv\n",
>>>>>>> af1d452 (post rebase conflict)
    "import os\n",
    "import pandas as pd\n",
    "pd.set_option('display.max_colwidth', None)\n",
    "pd.set_option('display.max_rows', 100)\n",
    "\n",
<<<<<<< HEAD
    "from group_data import df_pipe\n",
    "from src.prompts.options import next_state_options\n",
    "from src.prompts.system_prompt_quotes_v3 import sys_prompt\n",
    "from src.prompts.user_prompt_quotes_v3 import (\n",
    "    examples, \n",
    "    user, \n",
    "    parse_data_object, \n",
    "    build_user_message\n",
    ")\n",
    "from src.enums.states import States\n",
    "from src.enums.tracks import track_mapping\n",
    "import tiktoken\n",
    "import re"
   ]
  },
  {
   "cell_type": "markdown",
   "id": "2c2c69b5-deba-42e8-930a-885ffee87fdf",
   "metadata": {},
   "source": [
    "### Import Data + Initialize Encoder"
=======
    "from src.prompts.options import state_options\n",
    "from src.prompts.system_prompt import sys_prompt\n",
    "from src.prompts.user_prompt import examples, user\n",
    "from src.enums.states import States\n",
    "import tiktoken"
>>>>>>> af1d452 (post rebase conflict)
   ]
  },
  {
   "cell_type": "code",
<<<<<<< HEAD
   "execution_count": 5,
   "id": "68add5e1-9052-4daf-917c-c1c9cd145efb",
   "metadata": {},
   "outputs": [],
   "source": [
    "data_path = '/Users/americanthinker/Downloads/antx_data/2024-05-14_all_tracks.csv'"
   ]
  },
  {
   "cell_type": "code",
   "execution_count": 6,
   "id": "358f9384-0092-425d-b247-ac92aa6aed7e",
   "metadata": {},
   "outputs": [],
   "source": [
    "data = df_pipe(data_path, fill_state=False, merge_tracks=True)\n",
=======
   "execution_count": 120,
   "id": "e016a2dd-1081-415e-a1ab-a36cad3c6807",
   "metadata": {},
   "outputs": [],
   "source": [
>>>>>>> af1d452 (post rebase conflict)
    "encoder = tiktoken.get_encoding('cl100k_base')"
   ]
  },
  {
   "cell_type": "code",
<<<<<<< HEAD
   "execution_count": 7,
   "id": "6f3f7883-ea41-44d2-8db6-a28eb94cd14c",
   "metadata": {},
   "outputs": [
    {
     "data": {
      "text/plain": [
       "25"
      ]
     },
     "execution_count": 7,
     "metadata": {},
     "output_type": "execute_result"
    }
   ],
   "source": [
    "#parse out only the data rows where a state change is present\n",
    "states = [{k:v} for k,v in data.items() if any(v['state'])]\n",
    "len(states)"
   ]
  },
  {
   "cell_type": "markdown",
   "id": "6998be69-1881-48ad-92db-e791b3e0af6d",
   "metadata": {},
   "source": [
    "### Peek at a sample User Message"
   ]
  },
  {
   "cell_type": "code",
   "execution_count": 8,
   "id": "61c552a5-767b-4ccb-8152-2bc08067de43",
=======
   "execution_count": 121,
   "id": "7fd38243-cb49-4fab-af44-5b17e64f1105",
>>>>>>> af1d452 (post rebase conflict)
   "metadata": {},
   "outputs": [
    {
     "name": "stdout",
     "output_type": "stream",
     "text": [
      "\n",
<<<<<<< HEAD
      "As context you will be given a Current State and a series of radio transmissions broken out into separate tracks. \n",
      "The transmissions represent dialogue between stakeholders involved in maritime UAV test and evaluation trials.\n",
      "  \n",
      "Given the context perform the following two sequential tasks:\n",
      "1. Decide if a change to the Current State is warranted given the transmissions. \n",
      "   - If no change is warranted simply return a json object as follows:\n",
      "   - Output: {\"current_state\": \"<current state>\"}\n",
      "\n",
      "2. Based on your decision from step 1, if a change in state is warranted then choose from among the next state options and return your output to include, current state, predicted state, and your reasoning for choosing the next predicted state.  Follow the output guidelines below:\n",
      "    - Output: {\"predicted_state\": \"<predicted state>\", \"reason\": \"<reason you chose the predicted state>\"}\n",
      "\n",
      "\n",
      "EXAMPLES\n",
      "--------------------------\n",
      "Use the following examples as your guide for predicting whether or not to change the state and if so, what to predict:\n",
      "\n",
      "EXAMPLE 1: No change in state\n",
      "Current State:\tTrial Start\n",
      "Radio Transmissions:\n",
      "- Boat Operators: '',\n",
      "- Test Director: \"Yes. Oh, the NavWar guy, I asked him. Yes. What Grant and I were talking about is that he gets operator overload sometimes. And so if there's a call going through on the green radio, that he might not hear it if he's fully in on the headset. Our thought was, okay, well, there's a bunch of NAVOR folks in there. Honestly, I grabbed the first one that I saw. The one that came up to me was like, hey, what can I do? Like, perfect. I'm like, but he's probably not the right person for that. I don't know if it's... That's what I kind of thought, figured would happen.\"\n",
      "- Patrol Craft Command Unit (PCCU): \"Is that independent? Oh no, I didn't even hear it. Is there volume on this? What is this? Oh, independent. Oh my gosh. I've been here a year. All right. Again, I cannot stress this enough, comms is not my day job. It is today, but...\"\n",
      "Potential next state options: ['Trial End', 'Delay Start', 'Mistrial', 'RTB']\n",
      "Output: {\"current_state\": \"Trial Start\"}\n",
      "\n",
      "EXAMPLE 2: Delay Start prediction\n",
      "Current State:\tTrial Start\n",
      "Radio Transmissions:\n",
      "- Boat Operators: 'Gents it looks like we have some fishing vessels approaching the operational area.',\n",
      "- Test Director: \"Are you checking with her for that? 10 knots. Thank you. 2-1-1. EpiSci. I think we'll let them run for a while. I think that LBIT is still struggling.\",\n",
      "- Patrol Craft Command Unit (PCCU): \"I'm just going to confirm we're still at 10 knots. Still 10 knots. So we're almost there. What? Basically perpendicular along the box. So roughly 1, 3, 0 for all of us. I'm just going to set this to one. If anything, you start to angle out of the box a little bit, just change a little bit. So definitely stay within it.\n",
      "Potential next state options: ['Trial End', 'Delay Start', 'Mistrial', 'RTB']\n",
      "Output: {\"predicted_state\": \"Delay Start\", \"reason\": \"A fishing vessel is close to the trial area and could be a hazard to safe operations\"}\n",
      "\n",
      "EXAMPLE 3: No change in state\n",
      "Current State:\tDelay Start\n",
      "Radio Transmissions:\n",
      "- Boat Operators: 'you'\n",
      "- Test Director: \"Hello. Copy. Yeah. Do you only want them to send it if you tell them to? That one.\"\n",
      "- Patrol Craft Command Unit (PCCU): \"I was like, hey, I don't really, like, in a good way, but like, I don't really like this. This could be more efficient. Oh. Yeah, they can turn it way down. Yeah\",\n",
      "Potential next state options: ['Delay End', 'Mistrial', 'RTB']\n",
      "Output: {\"current_state\": \"Delay Start\"}\n",
      "\n",
      "EXAMPLE 4: Trial Start prediction\n",
      "Current State:\tDelay End\n",
      "Radio Transmissions:\n",
      "- Boat Operators: \"Do you think that's like mounting location or do you think that there is current What I'm also wondering I'm wondering if there's a boat a support boat next to red 16 between it and the radio right now If we get into, so we're ideally ramping up to a test. If we go into another PR, we're like, trying to figure shit out, at that point I would say we'll do, you got it.\",\n",
      "- Test Director: \"That's all well and good, alright enough chatter.  Go ahead and commence trial number 2-1-3.\"\n",
      "- Patrol Craft Command Unit (PCCU): \"Maybe just don't go directly at the dot. Just try to miss it by a little bit. Just in case. Yeah, and once you clear this hook a little bit more. Yeah.\"\n",
      "Potential next state options: ['Trial Start', 'Delay Start', 'Mistrial', 'RTB']\n",
      "Output: {\"predicted_state\": \"Trial Start\", \"reason\": \"Radio transmission from the Test Director indicates that a new trial (2-1-3) has just commenced.\"}\n",
      "\n",
      "EXAMPLE 5: Delay Start prediction\n",
      "Current State:\tTrial Start\n",
      "Radio Transmissions:\n",
      "- Boat Operators: \"25 walk\"\n",
      "- Test Director: \"That'd be a fun upgrade. Yeah. Not fun is the right word, but I could see a use for that of being able to play back previous data. Yeah, I think of like a Ross bag or like you can still pop up in Arviz being able to do some version like that and see it propagate. Yeah, right. Yeah, let's put this on to. I'm curious at field events how much of the runway for the next series of dev presses gets generated. that's like, okay, so this is the first action that I'm hearing out of this. We're like, okay, here's a mole update. Is that a normal thing that happens at these?\"\n",
      "- Patrol Craft Command Unit (PCCU): \"Hold up now, I'm seeing several marine animals in your vicinity.\"\n",
      "Potential next state options: ['Trial End', 'Delay Start', 'Mistrial', 'RTB']\n",
      "Output: {\"predicted_state\": \"Delay Start\", \"reason\": \"Radio transmission from the PCCU indicates that there are marine animals spotted near the testing area, thus necessitating a delay in starting the trial\"}\n",
      "\n",
      "EXAMPLE 6: Mistrial prediction\n",
      "Current State:\tDelay End\n",
      "Radio Transmissions:\n",
      "- Boat Operators: \"Good afternoon, again, sir. Leaving precautionary area. Yeah, I'm joining you. Seth, I can't see Lucy Tronco on my starboard side. We'll do a search for her. Copy that, Roger. Ajo traffic, Motorcycle Manor, 10-1\"\n",
      "- Test Director: \"They're new? Okay, I'm not going crazy. They should find a boat soon, huh? What are you guys able to see on your screen? Anthony, can I ask you a question? What's going on in that window? I think I made a folder. This is getting out of hand, going to declare a mistrial.\"\n",
      "- Patrol Craft Command Unit (PCCU): \"So one more thing to give us heads up on the way in these are supposed to go 20 meters off they see something that's supposed to go around it kind of thing. They don't always do that. So like Tango 10 and Tango 20 are going right towards each other. Just be ready to do evasive maneuvers if it looks like they're like going head on. Like that one I'd zoom way in. Maybe go the circle thing. Really like the circle thing where it says like 50 meter offset or 10 meter offset, whatever it's at. The ring, yeah. Bump that to 30 meters or so, yeah. And does it, oh. Very bottom right, the lock. Yeah. And then zoom way in. Yeah. So, if it looks like within like 30 meters, how does it start going right towards each other? Yeah, you're absolutely good.\"\n",
      "Potential next state options: ['Trial Start', 'Delay Start', 'Mistrial', 'RTB']\n",
      "Output: {\"predicted_state\": \"Mistrial\", \"reason\": \"Radio transmission from the Test Director indicates that operations are getting out of hand and therefore declares a mistrial.\"}\n",
      "\n",
      "--------------------------\n",
      "\n",
      "Current State: Trial End\n",
      "Radio Transmissions:\n",
      "Boat Operators: \n",
      "\n",
      "Test Director: and then a start message later. Nothing heard, send your last. Negative on the trial end. We'll just take the, stop the view. Good copy, so all call, all call, trial end. Let's have red vehicles reset and we will restart, over. Yeah. So this is. And they're controlling red in there, right? Yes. Yeah. So there are two 22-foot WAMVs and one 16-foot WAMV.\n",
      "\n",
      "Patrol Craft Command Unit (PCCU): the trial and we'll just All calls, trial end. Let's have red vehicle reset, and we will restart. Yeah, reset those bad boys. Increase to 15. Yeah, everyone, if you got that one over there. Yep, go exact opposite.\n",
      "Potential next state options: ['Trial Start', 'Delay Start', 'Mistrial', 'RTB']\n",
      "--------------------------\n",
      "Output:\n",
=======
      "Goal: Predict if a change of state is warranted when given a series of text.\n",
      "\n",
      "Context: You will be provided with two items:\n",
      "\n",
      "1. \"Current State\" from among the following State Options: ['Trial Start', 'Trial End', 'Delay Start', 'Delay End', 'Mistrial', 'Return to Base']\n",
      "2. A series of text transmissions which you will use to make the following decisions:\n",
      "    - Should the \"Current State\" change given the content/meaning of the text transmission.\n",
      "    - If the \"Current State\" should be changed, predict the next state based on the content/meaning of the text transmission.\n",
      "    - Prediction Rules: Predicted states must adhere to the following structured options:\n",
      "        Trial Start:\t Next State Options --> ['Trial End', 'Delay Start', 'Mistrial', 'Return to Base']\n",
      "        Trial End:\t Next State Options --> ['Trial Start', 'Delay Start', 'Mistrial', 'Return to Base']\n",
      "        Delay Start:\t Next State Options --> ['Delay End', 'Mistrial', 'Return to Base']\n",
      "        Delay End:\t Next State Options --> ['Trial Start', 'Delay Start', 'Mistrial', 'Return to Base']\n",
      "        Mistrial:\t Next State Options --> ['Trial Start', 'Delay Start', 'Return to Base']\n",
      "Output Format: Return your response as a json object in the following format:\n",
      "\n",
      "    - If you determine that no change in state is warranted simply return the current state as json as follows:\n",
      "        {\"current_state\": <current state>}\n",
      "    - If a change in state is warranted based on the meaning/content of the associated text then return the following:\n",
      "        {\"current_state\": <current state>, \"predicted_state\": <predicted state>, \"reasoning\": <reason for next state prediction>}\n",
>>>>>>> af1d452 (post rebase conflict)
      "\n"
     ]
    }
   ],
   "source": [
<<<<<<< HEAD
    "#set some constatns\n",
    "minute_value = '12:26'\n",
    "tracks = parse_data_object(data[minute_value])\n",
    "current_state = [s for s in data[minute_value]['state'] if s][0]\n",
    "\n",
    "user_message = build_user_message(examples, current_state, tracks, next_state_options[current_state]['Options'])\n",
    "print(user_message)"
   ]
  },
  {
   "cell_type": "markdown",
   "id": "33325ad1-c4c3-488a-995c-97bf591b900a",
   "metadata": {},
   "source": [
    "### View total token length of combined messages"
=======
    "print(sys_prompt)"
>>>>>>> af1d452 (post rebase conflict)
   ]
  },
  {
   "cell_type": "code",
<<<<<<< HEAD
   "execution_count": 9,
=======
   "execution_count": 90,
   "id": "2cc6df41-d135-4fff-9155-2362146219ea",
   "metadata": {},
   "outputs": [],
   "source": [
    "state = \"Trial Start\"\n",
    "text = \"Good copy, so all call, all call, trial end.\""
   ]
  },
  {
   "cell_type": "code",
   "execution_count": 122,
   "id": "2d175de7-7b14-49cf-9fc3-e9bb30d4fc9d",
   "metadata": {},
   "outputs": [],
   "source": [
    "def build_user_prompt(current_state: str, radio_text: str) -> str:\n",
    "    user_prompt = user.format(examples=examples, current_state=current_state, text=radio_text)\n",
    "    return user_prompt"
   ]
  },
  {
   "cell_type": "code",
   "execution_count": 123,
>>>>>>> af1d452 (post rebase conflict)
   "id": "ec95ec49-cde0-4348-8b77-594ffdf99ecc",
   "metadata": {},
   "outputs": [
    {
     "data": {
      "text/plain": [
<<<<<<< HEAD
       "2590"
      ]
     },
     "execution_count": 9,
=======
       "912"
      ]
     },
     "execution_count": 123,
>>>>>>> af1d452 (post rebase conflict)
     "metadata": {},
     "output_type": "execute_result"
    }
   ],
   "source": [
<<<<<<< HEAD
    "len(encoder.encode(user_message + sys_prompt))"
   ]
  },
  {
   "cell_type": "markdown",
   "id": "d9560d68-9d80-4316-8b32-68df3aa1946f",
   "metadata": {},
   "source": [
    "### LLM Call setup"
=======
    "len(encoder.encode(build_user_prompt(state, text) + sys_prompt))"
>>>>>>> af1d452 (post rebase conflict)
   ]
  },
  {
   "cell_type": "code",
<<<<<<< HEAD
   "execution_count": 10,
=======
   "execution_count": 124,
   "id": "a2983e83-d2f4-40c3-9abe-b77d106bcb5f",
   "metadata": {},
   "outputs": [],
   "source": [
    "_ = load_dotenv(find_dotenv(), override=True)"
   ]
  },
  {
   "cell_type": "code",
   "execution_count": 125,
   "id": "efccfabf-514b-4db5-8b1c-1204e88e5931",
   "metadata": {},
   "outputs": [],
   "source": [
    "data_path = '/Users/americanthinker/Downloads/2024-05-14_all_tracks.csv'"
   ]
  },
  {
   "cell_type": "code",
   "execution_count": 48,
   "id": "475e9087-0a55-41a2-9784-794fda5defb0",
   "metadata": {},
   "outputs": [],
   "source": [
    "df = pd.read_csv(data_path)\n",
    "df.drop('track2', axis=1, inplace=True)"
   ]
  },
  {
   "cell_type": "code",
   "execution_count": 49,
   "id": "8f68f918-cd81-4bf4-8113-a3d9ecb9fdef",
   "metadata": {},
   "outputs": [],
   "source": [
    "df.fillna(value={'track1':'', 'track2':'', 'track3':'', 'track4':''}, inplace=True)"
   ]
  },
  {
   "cell_type": "code",
   "execution_count": 50,
   "id": "116db241-3121-4533-a97a-c9902931a9a8",
   "metadata": {},
   "outputs": [
    {
     "name": "stdout",
     "output_type": "stream",
     "text": [
      "Track 1 length: 1186\n",
      "Track 3 length: 5437\n",
      "Track 4 length: 4455\n"
     ]
    }
   ],
   "source": [
    "for x in range(1,5):\n",
    "    if x != 2:\n",
    "        track = [t for t in df[f'track{x}'].values.tolist() if t]\n",
    "        print(f'Track {x} length: {len(track)}')"
   ]
  },
  {
   "cell_type": "code",
   "execution_count": 34,
   "id": "55a37840-fc32-4d64-9513-50f7d5d31e0a",
   "metadata": {},
   "outputs": [],
   "source": [
    "unique_states = ['Trial Start', 'Delay Start', 'Delay End', 'Trial End', 'Mistrial', 'RTB']"
   ]
  },
  {
   "cell_type": "code",
   "execution_count": 56,
   "id": "efc0fefe-b098-427d-ad79-6cb174409658",
   "metadata": {
    "collapsed": true,
    "jupyter": {
     "outputs_hidden": true
    }
   },
   "outputs": [
    {
     "data": {
      "text/html": [
       "<div>\n",
       "<style scoped>\n",
       "    .dataframe tbody tr th:only-of-type {\n",
       "        vertical-align: middle;\n",
       "    }\n",
       "\n",
       "    .dataframe tbody tr th {\n",
       "        vertical-align: top;\n",
       "    }\n",
       "\n",
       "    .dataframe thead th {\n",
       "        text-align: right;\n",
       "    }\n",
       "</style>\n",
       "<table border=\"1\" class=\"dataframe\">\n",
       "  <thead>\n",
       "    <tr style=\"text-align: right;\">\n",
       "      <th></th>\n",
       "      <th>start</th>\n",
       "      <th>end</th>\n",
       "      <th>track1</th>\n",
       "      <th>track3</th>\n",
       "      <th>track4</th>\n",
       "      <th>state</th>\n",
       "      <th>notes</th>\n",
       "      <th>delay type</th>\n",
       "    </tr>\n",
       "  </thead>\n",
       "  <tbody>\n",
       "    <tr>\n",
       "      <th>357</th>\n",
       "      <td>5/14/2024 8:42</td>\n",
       "      <td>5/14/2024 8:42</td>\n",
       "      <td></td>\n",
       "      <td>All stations, all stations, be advised, trial start, trial start.</td>\n",
       "      <td>All stations, all stations, be advised, trial start, trial start.</td>\n",
       "      <td>Trial Start</td>\n",
       "      <td>NaN</td>\n",
       "      <td>NaN</td>\n",
       "    </tr>\n",
       "    <tr>\n",
       "      <th>1524</th>\n",
       "      <td>5/14/2024 9:42</td>\n",
       "      <td>5/14/2024 9:42</td>\n",
       "      <td></td>\n",
       "      <td></td>\n",
       "      <td>Be aware, we do have a fishing vessel maybe 100 yards from our location.</td>\n",
       "      <td>Delay Start</td>\n",
       "      <td>Fishing vessel in the ops area</td>\n",
       "      <td>NPC</td>\n",
       "    </tr>\n",
       "    <tr>\n",
       "      <th>1692</th>\n",
       "      <td>5/14/2024 9:50</td>\n",
       "      <td>5/14/2024 9:50</td>\n",
       "      <td></td>\n",
       "      <td></td>\n",
       "      <td>They're currently having network problems.</td>\n",
       "      <td>Delay Start</td>\n",
       "      <td>networking problem indicated</td>\n",
       "      <td>Network</td>\n",
       "    </tr>\n",
       "    <tr>\n",
       "      <th>2372</th>\n",
       "      <td>5/14/2024 10:23</td>\n",
       "      <td>5/14/2024 10:23</td>\n",
       "      <td></td>\n",
       "      <td>So 1015 for trial start, or I'm sorry, 1045 for trial start.</td>\n",
       "      <td></td>\n",
       "      <td>Delay End</td>\n",
       "      <td>1045 trial start time</td>\n",
       "      <td>Network</td>\n",
       "    </tr>\n",
       "    <tr>\n",
       "      <th>2397</th>\n",
       "      <td>5/14/2024 10:27</td>\n",
       "      <td>5/14/2024 10:27</td>\n",
       "      <td></td>\n",
       "      <td>Thanks, Daniel.</td>\n",
       "      <td></td>\n",
       "      <td>Delay End</td>\n",
       "      <td>fishing vessel left field, no text as PCCU was muted at this time</td>\n",
       "      <td>NPC</td>\n",
       "    </tr>\n",
       "    <tr>\n",
       "      <th>3681</th>\n",
       "      <td>5/14/2024 11:48</td>\n",
       "      <td>5/14/2024 11:48</td>\n",
       "      <td></td>\n",
       "      <td>Trial 211 has begun.</td>\n",
       "      <td></td>\n",
       "      <td>Trial Start</td>\n",
       "      <td>NaN</td>\n",
       "      <td>NaN</td>\n",
       "    </tr>\n",
       "    <tr>\n",
       "      <th>3803</th>\n",
       "      <td>5/14/2024 11:55</td>\n",
       "      <td>5/14/2024 11:55</td>\n",
       "      <td></td>\n",
       "      <td></td>\n",
       "      <td>To be advised, we got a helo flying low over the north corner of the field.</td>\n",
       "      <td>Delay Start</td>\n",
       "      <td>plane flew over part of op area</td>\n",
       "      <td>NPC</td>\n",
       "    </tr>\n",
       "    <tr>\n",
       "      <th>3825</th>\n",
       "      <td>5/14/2024 11:56</td>\n",
       "      <td>5/14/2024 11:56</td>\n",
       "      <td></td>\n",
       "      <td></td>\n",
       "      <td>Just to confirm, there's no air vehicles up?</td>\n",
       "      <td>Delay End</td>\n",
       "      <td>NaN</td>\n",
       "      <td>NPC</td>\n",
       "    </tr>\n",
       "    <tr>\n",
       "      <th>3916</th>\n",
       "      <td>5/14/2024 12:00</td>\n",
       "      <td>5/14/2024 12:00</td>\n",
       "      <td></td>\n",
       "      <td>Trial completion, trial completion.</td>\n",
       "      <td></td>\n",
       "      <td>Trial End</td>\n",
       "      <td>NaN</td>\n",
       "      <td>NaN</td>\n",
       "    </tr>\n",
       "    <tr>\n",
       "      <th>4400</th>\n",
       "      <td>5/14/2024 12:20</td>\n",
       "      <td>5/14/2024 12:20</td>\n",
       "      <td></td>\n",
       "      <td>Trial 2-2-1 has begun.</td>\n",
       "      <td></td>\n",
       "      <td>Trial Start</td>\n",
       "      <td>NaN</td>\n",
       "      <td>NaN</td>\n",
       "    </tr>\n",
       "    <tr>\n",
       "      <th>4505</th>\n",
       "      <td>5/14/2024 12:26</td>\n",
       "      <td>5/14/2024 12:26</td>\n",
       "      <td></td>\n",
       "      <td>Good copy, so all call, all call, trial end.</td>\n",
       "      <td></td>\n",
       "      <td>Trial End</td>\n",
       "      <td>NaN</td>\n",
       "      <td>NaN</td>\n",
       "    </tr>\n",
       "    <tr>\n",
       "      <th>4562</th>\n",
       "      <td>5/14/2024 12:27</td>\n",
       "      <td>5/14/2024 12:27</td>\n",
       "      <td></td>\n",
       "      <td></td>\n",
       "      <td>Mistrial was requested trial and trial and resetting for next trial</td>\n",
       "      <td>Mistrial</td>\n",
       "      <td>NaN</td>\n",
       "      <td>NaN</td>\n",
       "    </tr>\n",
       "    <tr>\n",
       "      <th>4823</th>\n",
       "      <td>5/14/2024 12:47</td>\n",
       "      <td>5/14/2024 12:47</td>\n",
       "      <td></td>\n",
       "      <td>All call, all call, trial 2.2.2, beginning now, repeat.</td>\n",
       "      <td></td>\n",
       "      <td>Trial Start</td>\n",
       "      <td>NaN</td>\n",
       "      <td>NaN</td>\n",
       "    </tr>\n",
       "    <tr>\n",
       "      <th>4928</th>\n",
       "      <td>5/14/2024 12:54</td>\n",
       "      <td>5/14/2024 12:54</td>\n",
       "      <td>We have a fishing vessel cutting through the field, southwestern corner, about midway through.</td>\n",
       "      <td></td>\n",
       "      <td></td>\n",
       "      <td>Delay Start</td>\n",
       "      <td>fishing vessel heading throeugh field, southwestern corner</td>\n",
       "      <td>NPC</td>\n",
       "    </tr>\n",
       "    <tr>\n",
       "      <th>5079</th>\n",
       "      <td>5/14/2024 13:01</td>\n",
       "      <td>5/14/2024 13:01</td>\n",
       "      <td>Fishing vessel is exiting, but not in the route that we directed them to.</td>\n",
       "      <td></td>\n",
       "      <td></td>\n",
       "      <td>Delay End</td>\n",
       "      <td>Fishing vessel is exiting but not in the route directed. You are cleared to resume T13</td>\n",
       "      <td>NPC</td>\n",
       "    </tr>\n",
       "    <tr>\n",
       "      <th>5130</th>\n",
       "      <td>5/14/2024 13:04</td>\n",
       "      <td>5/14/2024 13:04</td>\n",
       "      <td></td>\n",
       "      <td>Trial end, trial end.</td>\n",
       "      <td></td>\n",
       "      <td>Trial End</td>\n",
       "      <td>NaN</td>\n",
       "      <td>NaN</td>\n",
       "    </tr>\n",
       "    <tr>\n",
       "      <th>5467</th>\n",
       "      <td>5/14/2024 13:24</td>\n",
       "      <td>5/14/2024 13:24</td>\n",
       "      <td>Be advised that Hilo's heading back through.</td>\n",
       "      <td></td>\n",
       "      <td></td>\n",
       "      <td>Delay Start</td>\n",
       "      <td>Be advised helio in area, flying low at roughly 100'</td>\n",
       "      <td>NPC</td>\n",
       "    </tr>\n",
       "    <tr>\n",
       "      <th>5706</th>\n",
       "      <td>5/14/2024 13:34</td>\n",
       "      <td>5/14/2024 13:35</td>\n",
       "      <td></td>\n",
       "      <td></td>\n",
       "      <td>Negative, we saw it head further north and then back to shore.</td>\n",
       "      <td>Delay End</td>\n",
       "      <td>Helicopter has cleared the field</td>\n",
       "      <td>NPC</td>\n",
       "    </tr>\n",
       "    <tr>\n",
       "      <th>6819</th>\n",
       "      <td>5/14/2024 14:30</td>\n",
       "      <td>5/14/2024 14:30</td>\n",
       "      <td></td>\n",
       "      <td>All call, all call, trial begin, trial number 223.</td>\n",
       "      <td></td>\n",
       "      <td>Trial Start</td>\n",
       "      <td>All call begins, trial number 223, quiet on the deck</td>\n",
       "      <td>NaN</td>\n",
       "    </tr>\n",
       "    <tr>\n",
       "      <th>6995</th>\n",
       "      <td>5/14/2024 14:40</td>\n",
       "      <td>5/14/2024 14:40</td>\n",
       "      <td></td>\n",
       "      <td>Trial is ending.</td>\n",
       "      <td></td>\n",
       "      <td>Trial End</td>\n",
       "      <td>NaN</td>\n",
       "      <td>NaN</td>\n",
       "    </tr>\n",
       "    <tr>\n",
       "      <th>7003</th>\n",
       "      <td>5/14/2024 14:40</td>\n",
       "      <td>5/14/2024 14:40</td>\n",
       "      <td></td>\n",
       "      <td>We're gonna reset this trial.</td>\n",
       "      <td></td>\n",
       "      <td>Mistrial</td>\n",
       "      <td>NaN</td>\n",
       "      <td>NaN</td>\n",
       "    </tr>\n",
       "    <tr>\n",
       "      <th>7045</th>\n",
       "      <td>5/14/2024 14:42</td>\n",
       "      <td>5/14/2024 14:42</td>\n",
       "      <td></td>\n",
       "      <td></td>\n",
       "      <td>Red 16, red 22 both need an escort out of the zone from the support vehicles.</td>\n",
       "      <td>Delay Start</td>\n",
       "      <td>Red 16 and 22 both need escort out of the area, need to be towed</td>\n",
       "      <td>Towing</td>\n",
       "    </tr>\n",
       "    <tr>\n",
       "      <th>7398</th>\n",
       "      <td>5/14/2024 14:59</td>\n",
       "      <td>5/14/2024 14:59</td>\n",
       "      <td>Romeo 2-7 Papa Charlie Papa Charlie You and Tango 4 are good to release your respective WAMVs.</td>\n",
       "      <td></td>\n",
       "      <td></td>\n",
       "      <td>Delay End</td>\n",
       "      <td>Tow of WAMvs waved off, remote connection re-established</td>\n",
       "      <td>Towing</td>\n",
       "    </tr>\n",
       "    <tr>\n",
       "      <th>8237</th>\n",
       "      <td>5/14/2024 15:44</td>\n",
       "      <td>5/14/2024 15:44</td>\n",
       "      <td>Would you prefer to tow it back or to have Tango 9 rendezvous at Tango 20's location to RC it back?</td>\n",
       "      <td></td>\n",
       "      <td></td>\n",
       "      <td>Delay Start</td>\n",
       "      <td>T20 offline, T9 going to RC it back to the southwest dugout</td>\n",
       "      <td>Towing</td>\n",
       "    </tr>\n",
       "    <tr>\n",
       "      <th>8641</th>\n",
       "      <td>5/14/2024 16:05</td>\n",
       "      <td>5/14/2024 16:05</td>\n",
       "      <td>Yeah, copy that, that's a good location.</td>\n",
       "      <td></td>\n",
       "      <td></td>\n",
       "      <td>Delay End</td>\n",
       "      <td>NaN</td>\n",
       "      <td>Towing</td>\n",
       "    </tr>\n",
       "    <tr>\n",
       "      <th>9279</th>\n",
       "      <td>5/14/2024 16:38</td>\n",
       "      <td>5/14/2024 16:38</td>\n",
       "      <td></td>\n",
       "      <td>Harper.</td>\n",
       "      <td>Return to base.</td>\n",
       "      <td>RTB</td>\n",
       "      <td>NaN</td>\n",
       "      <td>NaN</td>\n",
       "    </tr>\n",
       "  </tbody>\n",
       "</table>\n",
       "</div>"
      ],
      "text/plain": [
       "                start              end  \\\n",
       "357    5/14/2024 8:42   5/14/2024 8:42   \n",
       "1524   5/14/2024 9:42   5/14/2024 9:42   \n",
       "1692   5/14/2024 9:50   5/14/2024 9:50   \n",
       "2372  5/14/2024 10:23  5/14/2024 10:23   \n",
       "2397  5/14/2024 10:27  5/14/2024 10:27   \n",
       "3681  5/14/2024 11:48  5/14/2024 11:48   \n",
       "3803  5/14/2024 11:55  5/14/2024 11:55   \n",
       "3825  5/14/2024 11:56  5/14/2024 11:56   \n",
       "3916  5/14/2024 12:00  5/14/2024 12:00   \n",
       "4400  5/14/2024 12:20  5/14/2024 12:20   \n",
       "4505  5/14/2024 12:26  5/14/2024 12:26   \n",
       "4562  5/14/2024 12:27  5/14/2024 12:27   \n",
       "4823  5/14/2024 12:47  5/14/2024 12:47   \n",
       "4928  5/14/2024 12:54  5/14/2024 12:54   \n",
       "5079  5/14/2024 13:01  5/14/2024 13:01   \n",
       "5130  5/14/2024 13:04  5/14/2024 13:04   \n",
       "5467  5/14/2024 13:24  5/14/2024 13:24   \n",
       "5706  5/14/2024 13:34  5/14/2024 13:35   \n",
       "6819  5/14/2024 14:30  5/14/2024 14:30   \n",
       "6995  5/14/2024 14:40  5/14/2024 14:40   \n",
       "7003  5/14/2024 14:40  5/14/2024 14:40   \n",
       "7045  5/14/2024 14:42  5/14/2024 14:42   \n",
       "7398  5/14/2024 14:59  5/14/2024 14:59   \n",
       "8237  5/14/2024 15:44  5/14/2024 15:44   \n",
       "8641  5/14/2024 16:05  5/14/2024 16:05   \n",
       "9279  5/14/2024 16:38  5/14/2024 16:38   \n",
       "\n",
       "                                                                                                   track1  \\\n",
       "357                                                                                                         \n",
       "1524                                                                                                        \n",
       "1692                                                                                                        \n",
       "2372                                                                                                        \n",
       "2397                                                                                                        \n",
       "3681                                                                                                        \n",
       "3803                                                                                                        \n",
       "3825                                                                                                        \n",
       "3916                                                                                                        \n",
       "4400                                                                                                        \n",
       "4505                                                                                                        \n",
       "4562                                                                                                        \n",
       "4823                                                                                                        \n",
       "4928       We have a fishing vessel cutting through the field, southwestern corner, about midway through.   \n",
       "5079                            Fishing vessel is exiting, but not in the route that we directed them to.   \n",
       "5130                                                                                                        \n",
       "5467                                                         Be advised that Hilo's heading back through.   \n",
       "5706                                                                                                        \n",
       "6819                                                                                                        \n",
       "6995                                                                                                        \n",
       "7003                                                                                                        \n",
       "7045                                                                                                        \n",
       "7398       Romeo 2-7 Papa Charlie Papa Charlie You and Tango 4 are good to release your respective WAMVs.   \n",
       "8237  Would you prefer to tow it back or to have Tango 9 rendezvous at Tango 20's location to RC it back?   \n",
       "8641                                                             Yeah, copy that, that's a good location.   \n",
       "9279                                                                                                        \n",
       "\n",
       "                                                                 track3  \\\n",
       "357   All stations, all stations, be advised, trial start, trial start.   \n",
       "1524                                                                      \n",
       "1692                                                                      \n",
       "2372       So 1015 for trial start, or I'm sorry, 1045 for trial start.   \n",
       "2397                                                    Thanks, Daniel.   \n",
       "3681                                               Trial 211 has begun.   \n",
       "3803                                                                      \n",
       "3825                                                                      \n",
       "3916                                Trial completion, trial completion.   \n",
       "4400                                             Trial 2-2-1 has begun.   \n",
       "4505                       Good copy, so all call, all call, trial end.   \n",
       "4562                                                                      \n",
       "4823            All call, all call, trial 2.2.2, beginning now, repeat.   \n",
       "4928                                                                      \n",
       "5079                                                                      \n",
       "5130                                              Trial end, trial end.   \n",
       "5467                                                                      \n",
       "5706                                                                      \n",
       "6819                 All call, all call, trial begin, trial number 223.   \n",
       "6995                                                   Trial is ending.   \n",
       "7003                                      We're gonna reset this trial.   \n",
       "7045                                                                      \n",
       "7398                                                                      \n",
       "8237                                                                      \n",
       "8641                                                                      \n",
       "9279                                                            Harper.   \n",
       "\n",
       "                                                                             track4  \\\n",
       "357               All stations, all stations, be advised, trial start, trial start.   \n",
       "1524       Be aware, we do have a fishing vessel maybe 100 yards from our location.   \n",
       "1692                                     They're currently having network problems.   \n",
       "2372                                                                                  \n",
       "2397                                                                                  \n",
       "3681                                                                                  \n",
       "3803    To be advised, we got a helo flying low over the north corner of the field.   \n",
       "3825                                   Just to confirm, there's no air vehicles up?   \n",
       "3916                                                                                  \n",
       "4400                                                                                  \n",
       "4505                                                                                  \n",
       "4562            Mistrial was requested trial and trial and resetting for next trial   \n",
       "4823                                                                                  \n",
       "4928                                                                                  \n",
       "5079                                                                                  \n",
       "5130                                                                                  \n",
       "5467                                                                                  \n",
       "5706                 Negative, we saw it head further north and then back to shore.   \n",
       "6819                                                                                  \n",
       "6995                                                                                  \n",
       "7003                                                                                  \n",
       "7045  Red 16, red 22 both need an escort out of the zone from the support vehicles.   \n",
       "7398                                                                                  \n",
       "8237                                                                                  \n",
       "8641                                                                                  \n",
       "9279                                                                Return to base.   \n",
       "\n",
       "            state  \\\n",
       "357   Trial Start   \n",
       "1524  Delay Start   \n",
       "1692  Delay Start   \n",
       "2372    Delay End   \n",
       "2397    Delay End   \n",
       "3681  Trial Start   \n",
       "3803  Delay Start   \n",
       "3825    Delay End   \n",
       "3916    Trial End   \n",
       "4400  Trial Start   \n",
       "4505    Trial End   \n",
       "4562     Mistrial   \n",
       "4823  Trial Start   \n",
       "4928  Delay Start   \n",
       "5079    Delay End   \n",
       "5130    Trial End   \n",
       "5467  Delay Start   \n",
       "5706    Delay End   \n",
       "6819  Trial Start   \n",
       "6995    Trial End   \n",
       "7003     Mistrial   \n",
       "7045  Delay Start   \n",
       "7398    Delay End   \n",
       "8237  Delay Start   \n",
       "8641    Delay End   \n",
       "9279          RTB   \n",
       "\n",
       "                                                                                       notes  \\\n",
       "357                                                                                      NaN   \n",
       "1524                                                          Fishing vessel in the ops area   \n",
       "1692                                                            networking problem indicated   \n",
       "2372                                                                   1045 trial start time   \n",
       "2397                       fishing vessel left field, no text as PCCU was muted at this time   \n",
       "3681                                                                                     NaN   \n",
       "3803                                                         plane flew over part of op area   \n",
       "3825                                                                                     NaN   \n",
       "3916                                                                                     NaN   \n",
       "4400                                                                                     NaN   \n",
       "4505                                                                                     NaN   \n",
       "4562                                                                                     NaN   \n",
       "4823                                                                                     NaN   \n",
       "4928                              fishing vessel heading throeugh field, southwestern corner   \n",
       "5079  Fishing vessel is exiting but not in the route directed. You are cleared to resume T13   \n",
       "5130                                                                                     NaN   \n",
       "5467                                    Be advised helio in area, flying low at roughly 100'   \n",
       "5706                                                        Helicopter has cleared the field   \n",
       "6819                                    All call begins, trial number 223, quiet on the deck   \n",
       "6995                                                                                     NaN   \n",
       "7003                                                                                     NaN   \n",
       "7045                        Red 16 and 22 both need escort out of the area, need to be towed   \n",
       "7398                                Tow of WAMvs waved off, remote connection re-established   \n",
       "8237                             T20 offline, T9 going to RC it back to the southwest dugout   \n",
       "8641                                                                                     NaN   \n",
       "9279                                                                                     NaN   \n",
       "\n",
       "     delay type  \n",
       "357         NaN  \n",
       "1524        NPC  \n",
       "1692    Network  \n",
       "2372    Network  \n",
       "2397        NPC  \n",
       "3681        NaN  \n",
       "3803        NPC  \n",
       "3825        NPC  \n",
       "3916        NaN  \n",
       "4400        NaN  \n",
       "4505        NaN  \n",
       "4562        NaN  \n",
       "4823        NaN  \n",
       "4928        NPC  \n",
       "5079        NPC  \n",
       "5130        NaN  \n",
       "5467        NPC  \n",
       "5706        NPC  \n",
       "6819        NaN  \n",
       "6995        NaN  \n",
       "7003        NaN  \n",
       "7045     Towing  \n",
       "7398     Towing  \n",
       "8237     Towing  \n",
       "8641     Towing  \n",
       "9279        NaN  "
      ]
     },
     "execution_count": 56,
     "metadata": {},
     "output_type": "execute_result"
    }
   ],
   "source": [
    "states = df[~df['state'].isna()]\n",
    "states"
   ]
  },
  {
   "cell_type": "code",
   "execution_count": 41,
   "id": "8d37e011-adfb-4bcd-8a59-9bd7f9ed466e",
   "metadata": {},
   "outputs": [],
   "source": [
    "labeled_data = states.loc[:,'track1':'state']\n",
    "labeled_data_cleaned = []\n",
    "labeled_data_dicts = []\n",
    "for alist in labeled_data.values:\n",
    "    cleaned = [text for text in alist if text]\n",
    "    labeled_data_cleaned.append(cleaned)\n",
    "for alist in labeled_data_cleaned:\n",
    "    datum = {'text': ' '.join([t for t in alist[:-1]]), 'label': alist[-1]}\n",
    "    labeled_data_dicts.append(datum)"
   ]
  },
  {
   "cell_type": "code",
   "execution_count": 113,
   "id": "841a631a-d483-4fa8-acfd-cd543fb51e8c",
   "metadata": {},
   "outputs": [
    {
     "data": {
      "text/plain": [
       "['Trial Start',\n",
       " 'Delay Start',\n",
       " 'Delay Start',\n",
       " 'Delay End',\n",
       " 'Delay End',\n",
       " 'Trial Start',\n",
       " 'Delay Start',\n",
       " 'Delay End',\n",
       " 'Trial End',\n",
       " 'Trial Start',\n",
       " 'Trial End',\n",
       " 'Mistrial',\n",
       " 'Trial Start',\n",
       " 'Delay Start',\n",
       " 'Delay End',\n",
       " 'Trial End',\n",
       " 'Delay Start',\n",
       " 'Delay End',\n",
       " 'Trial Start',\n",
       " 'Trial End',\n",
       " 'Mistrial',\n",
       " 'Delay Start',\n",
       " 'Delay End',\n",
       " 'Delay Start',\n",
       " 'Delay End',\n",
       " 'RTB']"
      ]
     },
     "execution_count": 113,
     "metadata": {},
     "output_type": "execute_result"
    }
   ],
   "source": [
    "ordered_labels = [d['label'] for d in labeled_data_dicts]\n",
    "ordered_labels"
   ]
  },
  {
   "cell_type": "code",
   "execution_count": 104,
   "id": "96ccc48d-416f-471e-b88a-689faff93fbb",
   "metadata": {},
   "outputs": [
    {
     "data": {
      "text/plain": [
       "[{'text': 'All stations, all stations, be advised, trial start, trial start. All stations, all stations, be advised, trial start, trial start.',\n",
       "  'label': 'Trial Start'},\n",
       " {'text': 'Be aware, we do have a fishing vessel maybe 100 yards from our location.',\n",
       "  'label': 'Delay Start'},\n",
       " {'text': \"They're currently having network problems.\",\n",
       "  'label': 'Delay Start'},\n",
       " {'text': \"So 1015 for trial start, or I'm sorry, 1045 for trial start.\",\n",
       "  'label': 'Delay End'},\n",
       " {'text': 'Thanks, Daniel.', 'label': 'Delay End'},\n",
       " {'text': 'Trial 211 has begun.', 'label': 'Trial Start'},\n",
       " {'text': 'To be advised, we got a helo flying low over the north corner of the field.',\n",
       "  'label': 'Delay Start'},\n",
       " {'text': \"Just to confirm, there's no air vehicles up?\",\n",
       "  'label': 'Delay End'},\n",
       " {'text': 'Trial completion, trial completion.', 'label': 'Trial End'},\n",
       " {'text': 'Trial 2-2-1 has begun.', 'label': 'Trial Start'},\n",
       " {'text': 'Good copy, so all call, all call, trial end.',\n",
       "  'label': 'Trial End'},\n",
       " {'text': 'Mistrial was requested trial and trial and resetting for next trial',\n",
       "  'label': 'Mistrial'},\n",
       " {'text': 'All call, all call, trial 2.2.2, beginning now, repeat.',\n",
       "  'label': 'Trial Start'},\n",
       " {'text': 'We have a fishing vessel cutting through the field, southwestern corner, about midway through.',\n",
       "  'label': 'Delay Start'},\n",
       " {'text': 'Fishing vessel is exiting, but not in the route that we directed them to.',\n",
       "  'label': 'Delay End'},\n",
       " {'text': 'Trial end, trial end.', 'label': 'Trial End'},\n",
       " {'text': \"Be advised that Hilo's heading back through.\",\n",
       "  'label': 'Delay Start'},\n",
       " {'text': 'Negative, we saw it head further north and then back to shore.',\n",
       "  'label': 'Delay End'},\n",
       " {'text': 'All call, all call, trial begin, trial number 223.',\n",
       "  'label': 'Trial Start'},\n",
       " {'text': 'Trial is ending.', 'label': 'Trial End'},\n",
       " {'text': \"We're gonna reset this trial.\", 'label': 'Mistrial'},\n",
       " {'text': 'Red 16, red 22 both need an escort out of the zone from the support vehicles.',\n",
       "  'label': 'Delay Start'},\n",
       " {'text': 'Romeo 2-7 Papa Charlie Papa Charlie You and Tango 4 are good to release your respective WAMVs.',\n",
       "  'label': 'Delay End'},\n",
       " {'text': \"Would you prefer to tow it back or to have Tango 9 rendezvous at Tango 20's location to RC it back?\",\n",
       "  'label': 'Delay Start'},\n",
       " {'text': \"Yeah, copy that, that's a good location.\", 'label': 'Delay End'},\n",
       " {'text': 'Harper. Return to base.', 'label': 'RTB'}]"
      ]
     },
     "execution_count": 104,
     "metadata": {},
     "output_type": "execute_result"
    }
   ],
   "source": [
    "labeled_data_dicts"
   ]
  },
  {
   "cell_type": "code",
   "execution_count": 126,
>>>>>>> af1d452 (post rebase conflict)
   "id": "e15e29c2-92d6-44e4-a626-1790ed032c59",
   "metadata": {},
   "outputs": [],
   "source": [
    "def format_response(response: requests.models.Response):\n",
    "    json_response = response.json()\n",
    "    return json_response['choices'][0]['message']['content'].strip()"
   ]
  },
  {
   "cell_type": "code",
<<<<<<< HEAD
   "execution_count": 11,
=======
   "execution_count": 127,
>>>>>>> af1d452 (post rebase conflict)
   "id": "749eb964-6799-4e8c-a9c8-a51cde4669a3",
   "metadata": {},
   "outputs": [],
   "source": [
<<<<<<< HEAD
    "def chat_completion(user_prompt: str,\n",
=======
    "def chat_completion(current_state: str,\n",
    "                    radio_text: str,\n",
>>>>>>> af1d452 (post rebase conflict)
    "                    temperature: float=0.8,\n",
    "                    max_tokens: int=4096,\n",
    "                    stream: bool=False,\n",
    "                    raw: bool=False\n",
    "                    ) -> str | dict:\n",
    "    url = os.environ['LEAPFROG_URL']\n",
    "    api_key = os.environ['LEAPFROG_API_KEY']\n",
    "    headers = {\n",
    "    'Authorization': f'Bearer {api_key}',\n",
    "    'Content-Type': 'application/json'\n",
    "    }\n",
    "    data = {\n",
    "    \"model\": \"vllm\",\n",
    "    \"messages\": [\n",
    "        {\n",
    "            \"role\": \"system\",\n",
    "            \"content\": sys_prompt\n",
    "        },\n",
    "        {\n",
    "            \"role\": \"user\",\n",
<<<<<<< HEAD
    "            \"content\": user_prompt,\n",
=======
    "            \"content\": build_user_prompt(current_state, radio_text)\n",
>>>>>>> af1d452 (post rebase conflict)
    "        }\n",
    "    ],\n",
    "    \"stream\": stream,\n",
    "    \"temperature\": temperature,\n",
    "    \"max_tokens\": max_tokens\n",
    "}\n",
    "    try:\n",
    "        response = requests.post(url, headers=headers, data=json.dumps(data))\n",
    "        if response.status_code == 200:\n",
    "            if raw:\n",
    "                return response.json()\n",
    "            else: return format_response(response)\n",
    "        else:\n",
    "            print('Response is not 200')\n",
    "            return response\n",
    "    except Exception as e:\n",
    "        print(e)"
   ]
  },
  {
<<<<<<< HEAD
   "cell_type": "markdown",
   "id": "de60fd59-8c0b-4f67-a571-1d79025140c6",
   "metadata": {},
   "source": [
    "## Test Harness"
   ]
  },
  {
   "cell_type": "code",
   "execution_count": 12,
   "id": "9a4bbcf7-ef98-4490-b1ef-124022acf271",
   "metadata": {},
   "outputs": [],
   "source": [
    "def test_harness(test_data: list[dict], temperature: float=0.5) -> list[str]:\n",
    "    current_state = 'Trial Start'\n",
    "    responses = []\n",
    "    for i, data_point in enumerate(tqdm(test_data)):\n",
    "        minute_value = list(data_point.keys())[0]\n",
    "        tracks = parse_data_object(data_point[minute_value])\n",
    "        predicted_state = [s for s in data_point[minute_value]['state'] if s][0]\n",
    "        user_message = build_user_message(examples, current_state, tracks, next_state_options[current_state]['Options'])\n",
    "        responses.append({'response':chat_completion(user_message, temperature=temperature, max_tokens=250), 'label':predicted_state, 'minute': minute_value})\n",
    "        current_state = predicted_state\n",
    "    return responses"
=======
   "cell_type": "code",
   "execution_count": 128,
   "id": "dddfee25-9ee4-4dc2-8550-46a348213906",
   "metadata": {},
   "outputs": [],
   "source": [
    "# user_prompt = \"Summarize the following document in three sentences or less:\\n\\n {document}\\n\\nSummarize:\".format(document=data)"
>>>>>>> af1d452 (post rebase conflict)
   ]
  },
  {
   "cell_type": "code",
<<<<<<< HEAD
   "execution_count": 17,
   "id": "a2ce726a-d8c3-459b-9f08-2fffa4a2f372",
   "metadata": {},
   "outputs": [
    {
     "name": "stderr",
     "output_type": "stream",
     "text": [
      "100%|██████████████████████████████████████████████| 24/24 [00:58<00:00,  2.42s/it]\n"
=======
   "execution_count": 135,
   "id": "ffb95aea-98ff-403a-a163-1479f7fafadf",
   "metadata": {},
   "outputs": [],
   "source": [
    "response = chat_completion(state, text, max_tokens=250)"
   ]
  },
  {
   "cell_type": "code",
   "execution_count": 137,
   "id": "2f94668b-d315-4591-a97e-17bea8c14fd8",
   "metadata": {},
   "outputs": [
    {
     "data": {
      "text/plain": [
       "'{\"current_state\": Delay End, \"predicted_state\": Return to Base, \"reason\": \"The text indicates that an order has been given to return to base.\"}'"
      ]
     },
     "execution_count": 137,
     "metadata": {},
     "output_type": "execute_result"
    }
   ],
   "source": [
    "response"
   ]
  },
  {
   "cell_type": "code",
   "execution_count": 138,
   "id": "df7516a4-58ee-443e-a39f-a458e51ea26c",
   "metadata": {},
   "outputs": [
    {
     "name": "stdout",
     "output_type": "stream",
     "text": [
      "Predicted Response: {\"current_state\": \"Trial Start\", \"predicted_state\": \"Delay Start\", \"reason\": \"A fishing vessel is close to the trial area and could be a hazard to safe operations\"}</s>\n",
      "Ground Truth: ('Be aware, we do have a fishing vessel maybe 100 yards from our location.', 'Delay Start')\n",
      "----------------------------------------------------------------------------------------------------\n",
      "Predicted Response: {\"current_state\": Delay Start, \"predicted_state\": Delay End, \"reason\": \"The text indicates that there are network problems which could delay the start of the trial.\"}</s>\n",
      "Ground Truth: (\"They're currently having network problems.\", 'Delay Start')\n",
      "----------------------------------------------------------------------------------------------------\n",
      "Predicted Response: {\"current_state\": Delay Start, \"predicted_state\": Trial Start, \"reason\": \"The text indicates that the trial will start at 1045.\"}</s>\n",
      "Ground Truth: (\"So 1015 for trial start, or I'm sorry, 1045 for trial start.\", 'Delay End')\n",
      "----------------------------------------------------------------------------------------------------\n",
      "Predicted Response: {\"current_state\": Delay End}</s>\n",
      "Ground Truth: ('Thanks, Daniel.', 'Delay End')\n",
      "----------------------------------------------------------------------------------------------------\n",
      "Predicted Response: {\"current_state\": Delay End, \"predicted_state\": Trial Start, \"reason\": \"The text indicates that a new trial (211) has just started.\"}</s>\n",
      "Ground Truth: ('Trial 211 has begun.', 'Trial Start')\n",
      "----------------------------------------------------------------------------------------------------\n",
      "Predicted Response: {\"current_state\": \"Trial Start\", \"predicted_state\": \"Delay Start\", \"reason\": \"The text indicates that a helicopter is flying low over the trial area, which could pose a safety risk.\"}</s>\n",
      "Ground Truth: ('To be advised, we got a helo flying low over the north corner of the field.', 'Delay Start')\n",
      "----------------------------------------------------------------------------------------------------\n",
      "Predicted Response: {\"current_state\": Delay Start}\n",
      "Ground Truth: (\"Just to confirm, there's no air vehicles up?\", 'Delay End')\n",
      "----------------------------------------------------------------------------------------------------\n",
      "Predicted Response: {\"current_state\": Delay End, \"predicted_state\": Trial Start, \"reason\": \"The text indicates that a trial has been completed, which suggests a new trial may start.\"}\n",
      "Ground Truth: ('Trial completion, trial completion.', 'Trial End')\n",
      "----------------------------------------------------------------------------------------------------\n",
      "Predicted Response: {\"current_state\": Trial End, \"predicted_state\": Trial Start, \"reason\": \"The text indicates that a new trial (2-2-1) has just started.\"}</s>\n",
      "Ground Truth: ('Trial 2-2-1 has begun.', 'Trial Start')\n",
      "----------------------------------------------------------------------------------------------------\n",
      "Predicted Response: {\"current_state\": \"Trial Start\", \"predicted_state\": \"Trial End\", \"reason\": \"The text indicates that the trial has ended.\"}</s>\n",
      "Ground Truth: ('Good copy, so all call, all call, trial end.', 'Trial End')\n",
      "----------------------------------------------------------------------------------------------------\n",
      "Predicted Response: {\"current_state\": Trial End, \"predicted_state\": Trial Start, \"reason\": \"The text indicates that a mistrial was requested and the trial will be reset for the next trial.\"}</s>\n",
      "Ground Truth: ('Mistrial was requested trial and trial and resetting for next trial', 'Mistrial')\n",
      "----------------------------------------------------------------------------------------------------\n",
      "Predicted Response: {\"current_state\": Mistrial, \"predicted_state\": Trial Start, \"reason\": \"The text indicates that a new trial (2.2.2) has just started.\"}</s>\n",
      "Ground Truth: ('All call, all call, trial 2.2.2, beginning now, repeat.', 'Trial Start')\n",
      "----------------------------------------------------------------------------------------------------\n",
      "Predicted Response: {\"current_state\": \"Trial Start\", \"predicted_state\": \"Delay Start\", \"reason\": \"The text indicates that a fishing vessel is cutting through the field, which could pose a hazard to the ongoing trial.\"}</s>\n",
      "Ground Truth: ('We have a fishing vessel cutting through the field, southwestern corner, about midway through.', 'Delay Start')\n",
      "----------------------------------------------------------------------------------------------------\n",
      "Predicted Response: {\"current_state\": Delay Start, \"predicted_state\": Mistrial, \"reason\": \"The text indicates that the fishing vessel is not following the directed route, which could lead to a mistrial.\"}</s>\n",
      "Ground Truth: ('Fishing vessel is exiting, but not in the route that we directed them to.', 'Delay End')\n",
      "----------------------------------------------------------------------------------------------------\n",
      "Predicted Response: {\"current_state\": Delay End, \"predicted_state\": Trial End, \"reason\": \"The text indicates that the trial has ended.\"}</s>\n",
      "Ground Truth: ('Trial end, trial end.', 'Trial End')\n",
      "----------------------------------------------------------------------------------------------------\n",
      "Predicted Response: {\"current_state\": Trial End, \"predicted_state\": Trial Start, \"reason\": \"The text indicates that Hilo is returning through, which could mean the trial is starting again.\"}</s>\n",
      "Ground Truth: (\"Be advised that Hilo's heading back through.\", 'Delay Start')\n",
      "----------------------------------------------------------------------------------------------------\n",
      "Predicted Response: {\"current_state\": Delay Start, \"predicted_state\": Delay End, \"reason\": \"The text indicates that the target has moved away from the operational area, which could mean that the delay is no longer necessary.\"}\n",
      "Ground Truth: ('Negative, we saw it head further north and then back to shore.', 'Delay End')\n",
      "----------------------------------------------------------------------------------------------------\n",
      "Predicted Response: {\"current_state\": Delay End, \"predicted_state\": Trial Start, \"reason\": \"The text indicates that a new trial (223) has just started.\"}\n",
      "Ground Truth: ('All call, all call, trial begin, trial number 223.', 'Trial Start')\n",
      "----------------------------------------------------------------------------------------------------\n",
      "Predicted Response: {\"current_state\": \"Trial Start\", \"predicted_state\": \"Trial End\", \"reason\": \"The text indicates that the trial is ending.\"}</s>\n",
      "Ground Truth: ('Trial is ending.', 'Trial End')\n",
      "----------------------------------------------------------------------------------------------------\n",
      "Predicted Response: {\"current_state\": Trial End, \"predicted_state\": Mistrial, \"reason\": \"The text indicates that the trial will need to be reset.\"}</s>\n",
      "Ground Truth: (\"We're gonna reset this trial.\", 'Mistrial')\n",
      "----------------------------------------------------------------------------------------------------\n",
      "Predicted Response: {\"current_state\": Mistrial, \"predicted_state\": Trial Start, \"reason\": \"The text indicates that the trial will need to be restarted to address the escort requirements for Red 16 and Red 22.\"}</s>\n",
      "Ground Truth: ('Red 16, red 22 both need an escort out of the zone from the support vehicles.', 'Delay Start')\n",
      "----------------------------------------------------------------------------------------------------\n",
      "Predicted Response: {\"current_state\": Delay Start, \"predicted_state\": Trial Start, \"reason\": \"The text indicates that the WAMVs are being released, which suggests that the trial is about to start.\"}</s>\n",
      "Ground Truth: ('Romeo 2-7 Papa Charlie Papa Charlie You and Tango 4 are good to release your respective WAMVs.', 'Delay End')\n",
      "----------------------------------------------------------------------------------------------------\n",
      "Predicted Response: {\"current_state\": Delay End, \"predicted_state\": Trial Start, \"reason\": \"The text indicates that the trial will need to be resumed after the delay.\"}</s>\n",
      "Ground Truth: (\"Would you prefer to tow it back or to have Tango 9 rendezvous at Tango 20's location to RC it back?\", 'Delay Start')\n",
      "----------------------------------------------------------------------------------------------------\n",
      "Predicted Response: {\"current_state\": Delay Start}</s>\n",
      "Ground Truth: (\"Yeah, copy that, that's a good location.\", 'Delay End')\n",
      "----------------------------------------------------------------------------------------------------\n",
      "Predicted Response: {\"current_state\": Delay End, \"predicted_state\": Return to Base, \"reason\": \"The text indicates that an order has been given to return to base.\"}</s>\n",
      "Ground Truth: ('Harper. Return to base.', 'RTB')\n",
      "----------------------------------------------------------------------------------------------------\n"
>>>>>>> af1d452 (post rebase conflict)
     ]
    }
   ],
   "source": [
<<<<<<< HEAD
    "test = test_harness(states[1:], temperature=0.8)"
   ]
  },
  {
   "cell_type": "code",
   "execution_count": 18,
   "id": "2251f0e5-db6a-4e14-b1c1-436b1be23bf9",
   "metadata": {},
   "outputs": [],
   "source": [
    "def parse_test_results(results: list[dict]) -> list[dict]:\n",
    "    parse_errors = 0\n",
    "    hits = 0\n",
    "    errors = []\n",
    "    for res in results:\n",
    "        try:\n",
    "            label = res['label'].strip()\n",
    "            subbed = json.loads(re.sub(\"</s>\", '', res[\"response\"]))\n",
    "            try:\n",
    "                predicted = subbed['predicted_state'].strip()\n",
    "                \n",
    "            except KeyError:\n",
    "                predicted = subbed['current_state'].strip()\n",
    "            if predicted == label:\n",
    "                hits += 1\n",
    "            else: errors.append(res)\n",
    "        except json.JSONDecodeError:\n",
    "            parse_errors += 1\n",
    "            print(f\"Parse ERROR: \\t{res['response']}\")\n",
    "    parse_error_rate = round(parse_errors/len(test), 2)\n",
    "    print(f'Parse Error Rate: {parse_error_rate}')\n",
    "    print(f'Hits: {hits} out of {len(test)}')\n",
    "    return errors"
   ]
  },
  {
   "cell_type": "code",
   "execution_count": 20,
   "id": "b890a834-f7e4-4cef-a43a-a1854c31439b",
   "metadata": {},
   "outputs": [],
   "source": [
    "miss_verbiage = [\n",
    "    'To be advised, we got a helo flying low over the north corner of the field.',\n",
    "    \"Yeah. Yeah? Mistrial? Mistrial. OK. All call, all call. Trial completion, trial completion. So, yeah. It's passed. So there were, Kate filled me in, there were a few frames, maybe there was something in frame, but they didn't have a lawyer now. Go for Travis.\",\n",
    "    \"So, this will be trial two, two, one. And if you're ready, I'm gonna give the call. All call, all call. Trial 2-2-1 has begun. All call, all call. Trial 2-2-1 has begun.\",\n",
    "    \"the trial and we'll just All calls, trial end. Let's have red vehicle reset, and we will restart. Yeah, reset those bad boys.\",\n",
    "    \"I'm like a Mistrial was requested trial and trial and resetting for next trial\"\n",
    "]"
   ]
  },
  {
   "cell_type": "code",
   "execution_count": 22,
   "id": "13073407-901b-4b92-bf3a-68f99dd21eb4",
   "metadata": {},
   "outputs": [],
   "source": [
    "from rich import print"
   ]
  },
  {
   "cell_type": "code",
   "execution_count": 23,
   "id": "4001c506-ad49-45d3-bcee-29ab08f1037a",
   "metadata": {},
   "outputs": [
    {
     "data": {
      "text/html": [
       "<pre style=\"white-space:pre;overflow-x:auto;line-height:normal;font-family:Menlo,'DejaVu Sans Mono',consolas,'Courier New',monospace\">Parse Error Rate: <span style=\"color: #008080; text-decoration-color: #008080; font-weight: bold\">0.0</span>\n",
       "</pre>\n"
      ],
      "text/plain": [
       "Parse Error Rate: \u001b[1;36m0.0\u001b[0m\n"
      ]
     },
     "metadata": {},
     "output_type": "display_data"
    },
    {
     "data": {
      "text/html": [
       "<pre style=\"white-space:pre;overflow-x:auto;line-height:normal;font-family:Menlo,'DejaVu Sans Mono',consolas,'Courier New',monospace\">Hits: <span style=\"color: #008080; text-decoration-color: #008080; font-weight: bold\">13</span> out of <span style=\"color: #008080; text-decoration-color: #008080; font-weight: bold\">24</span>\n",
       "</pre>\n"
      ],
      "text/plain": [
       "Hits: \u001b[1;36m13\u001b[0m out of \u001b[1;36m24\u001b[0m\n"
      ]
     },
     "metadata": {},
     "output_type": "display_data"
    },
    {
     "data": {
      "text/html": [
       "<pre style=\"white-space:pre;overflow-x:auto;line-height:normal;font-family:Menlo,'DejaVu Sans Mono',consolas,'Courier New',monospace\"><span style=\"font-weight: bold\">[</span>\n",
       "    <span style=\"font-weight: bold\">{</span><span style=\"color: #008000; text-decoration-color: #008000\">'response'</span>: <span style=\"color: #008000; text-decoration-color: #008000\">'{\"current_state\": \"Trial Start\"}'</span>, <span style=\"color: #008000; text-decoration-color: #008000\">'label'</span>: <span style=\"color: #008000; text-decoration-color: #008000\">'Delay Start'</span>, <span style=\"color: #008000; text-decoration-color: #008000\">'minute'</span>: <span style=\"color: #008000; text-decoration-color: #008000\">'09:42'</span><span style=\"font-weight: bold\">}</span>,\n",
       "    <span style=\"font-weight: bold\">{</span>\n",
       "        <span style=\"color: #008000; text-decoration-color: #008000\">'response'</span>: <span style=\"color: #008000; text-decoration-color: #008000\">'{\"predicted_state\": \"Delay End\", \"reason\": \"Radio transmission from the Test Director </span>\n",
       "<span style=\"color: #008000; text-decoration-color: #008000\">indicates that the delay period is over and the trial can resume.\"}'</span>,\n",
       "        <span style=\"color: #008000; text-decoration-color: #008000\">'label'</span>: <span style=\"color: #008000; text-decoration-color: #008000\">'Delay Start'</span>,\n",
       "        <span style=\"color: #008000; text-decoration-color: #008000\">'minute'</span>: <span style=\"color: #008000; text-decoration-color: #008000\">'09:50'</span>\n",
       "    <span style=\"font-weight: bold\">}</span>,\n",
       "    <span style=\"font-weight: bold\">{</span>\n",
       "        <span style=\"color: #008000; text-decoration-color: #008000\">'response'</span>: <span style=\"color: #008000; text-decoration-color: #008000\">'{\"predicted_state\": \"Trial Start\", \"reason\": \"Radio transmission from the Test Director </span>\n",
       "<span style=\"color: #008000; text-decoration-color: #008000\">indicates that the integration and checklist have been completed, and they are ready to start the trial.\"}&lt;/s&gt;'</span><span style=\"color: #000000; text-decoration-color: #000000\">,</span>\n",
       "<span style=\"color: #000000; text-decoration-color: #000000\">        </span><span style=\"color: #008000; text-decoration-color: #008000\">'label'</span><span style=\"color: #000000; text-decoration-color: #000000\">: </span><span style=\"color: #008000; text-decoration-color: #008000\">'Delay End'</span><span style=\"color: #000000; text-decoration-color: #000000\">,</span>\n",
       "<span style=\"color: #000000; text-decoration-color: #000000\">        </span><span style=\"color: #008000; text-decoration-color: #008000\">'minute'</span><span style=\"color: #000000; text-decoration-color: #000000\">: </span><span style=\"color: #008000; text-decoration-color: #008000\">'10:27'</span>\n",
       "<span style=\"color: #000000; text-decoration-color: #000000\">    </span><span style=\"color: #000000; text-decoration-color: #000000; font-weight: bold\">}</span><span style=\"color: #000000; text-decoration-color: #000000\">,</span>\n",
       "<span style=\"color: #000000; text-decoration-color: #000000\">    </span><span style=\"color: #000000; text-decoration-color: #000000; font-weight: bold\">{</span><span style=\"color: #008000; text-decoration-color: #008000\">'response'</span><span style=\"color: #000000; text-decoration-color: #000000\">: </span><span style=\"color: #008000; text-decoration-color: #008000\">'{\"current_state\": \"Trial Start\"}&lt;/s&gt;'</span><span style=\"color: #000000; text-decoration-color: #000000\">, </span><span style=\"color: #008000; text-decoration-color: #008000\">'label'</span><span style=\"color: #000000; text-decoration-color: #000000\">: </span><span style=\"color: #008000; text-decoration-color: #008000\">'Delay Start'</span><span style=\"color: #000000; text-decoration-color: #000000\">, </span><span style=\"color: #008000; text-decoration-color: #008000\">'minute'</span><span style=\"color: #000000; text-decoration-color: #000000\">: </span><span style=\"color: #008000; text-decoration-color: #008000\">'11:55'</span><span style=\"color: #000000; text-decoration-color: #000000; font-weight: bold\">}</span><span style=\"color: #000000; text-decoration-color: #000000\">,</span>\n",
       "<span style=\"color: #000000; text-decoration-color: #000000\">    </span><span style=\"color: #000000; text-decoration-color: #000000; font-weight: bold\">{</span>\n",
       "<span style=\"color: #000000; text-decoration-color: #000000\">        </span><span style=\"color: #008000; text-decoration-color: #008000\">'response'</span><span style=\"color: #000000; text-decoration-color: #000000\">: </span><span style=\"color: #008000; text-decoration-color: #008000\">'{\"predicted_state\": \"RTB\", \"reason\": \"Radio transmission from the Test Director indicates that</span>\n",
       "<span style=\"color: #008000; text-decoration-color: #008000\">the trial has ended and the boats are in transit to their base of operations.\"}&lt;/s&gt;'</span><span style=\"color: #000000; text-decoration-color: #000000\">,</span>\n",
       "<span style=\"color: #000000; text-decoration-color: #000000\">        </span><span style=\"color: #008000; text-decoration-color: #008000\">'label'</span><span style=\"color: #000000; text-decoration-color: #000000\">: </span><span style=\"color: #008000; text-decoration-color: #008000\">'Trial End'</span><span style=\"color: #000000; text-decoration-color: #000000\">,</span>\n",
       "<span style=\"color: #000000; text-decoration-color: #000000\">        </span><span style=\"color: #008000; text-decoration-color: #008000\">'minute'</span><span style=\"color: #000000; text-decoration-color: #000000\">: </span><span style=\"color: #008000; text-decoration-color: #008000\">'12:00'</span>\n",
       "<span style=\"color: #000000; text-decoration-color: #000000\">    </span><span style=\"color: #000000; text-decoration-color: #000000; font-weight: bold\">}</span><span style=\"color: #000000; text-decoration-color: #000000\">,</span>\n",
       "<span style=\"color: #000000; text-decoration-color: #000000\">    </span><span style=\"color: #000000; text-decoration-color: #000000; font-weight: bold\">{</span><span style=\"color: #008000; text-decoration-color: #008000\">'response'</span><span style=\"color: #000000; text-decoration-color: #000000\">: </span><span style=\"color: #008000; text-decoration-color: #008000\">'{\"current_state\": \"Trial End\"}&lt;/s&gt;'</span><span style=\"color: #000000; text-decoration-color: #000000\">, </span><span style=\"color: #008000; text-decoration-color: #008000\">'label'</span><span style=\"color: #000000; text-decoration-color: #000000\">: </span><span style=\"color: #008000; text-decoration-color: #008000\">'Trial Start'</span><span style=\"color: #000000; text-decoration-color: #000000\">, </span><span style=\"color: #008000; text-decoration-color: #008000\">'minute'</span><span style=\"color: #000000; text-decoration-color: #000000\">: </span><span style=\"color: #008000; text-decoration-color: #008000\">'12:20'</span><span style=\"color: #000000; text-decoration-color: #000000; font-weight: bold\">}</span><span style=\"color: #000000; text-decoration-color: #000000\">,</span>\n",
       "<span style=\"color: #000000; text-decoration-color: #000000\">    </span><span style=\"color: #000000; text-decoration-color: #000000; font-weight: bold\">{</span><span style=\"color: #008000; text-decoration-color: #008000\">'response'</span><span style=\"color: #000000; text-decoration-color: #000000\">: </span><span style=\"color: #008000; text-decoration-color: #008000\">'{\"current_state\": \"Trial End\"}&lt;/s&gt;'</span><span style=\"color: #000000; text-decoration-color: #000000\">, </span><span style=\"color: #008000; text-decoration-color: #008000\">'label'</span><span style=\"color: #000000; text-decoration-color: #000000\">: </span><span style=\"color: #008000; text-decoration-color: #008000\">'Mistrial'</span><span style=\"color: #000000; text-decoration-color: #000000\">, </span><span style=\"color: #008000; text-decoration-color: #008000\">'minute'</span><span style=\"color: #000000; text-decoration-color: #000000\">: </span><span style=\"color: #008000; text-decoration-color: #008000\">'12:27'</span><span style=\"color: #000000; text-decoration-color: #000000; font-weight: bold\">}</span><span style=\"color: #000000; text-decoration-color: #000000\">,</span>\n",
       "<span style=\"color: #000000; text-decoration-color: #000000\">    </span><span style=\"color: #000000; text-decoration-color: #000000; font-weight: bold\">{</span>\n",
       "<span style=\"color: #000000; text-decoration-color: #000000\">        </span><span style=\"color: #008000; text-decoration-color: #008000\">'response'</span><span style=\"color: #000000; text-decoration-color: #000000\">: </span><span style=\"color: #008000; text-decoration-color: #008000\">'{\"predicted_state\": \"RTB\", \"reason\": \"Radio transmission from the Test Director indicates that</span>\n",
       "<span style=\"color: #008000; text-decoration-color: #008000\">all trials have ended and boats are in transit to their base of operations.\"}&lt;/s&gt;'</span><span style=\"color: #000000; text-decoration-color: #000000\">,</span>\n",
       "<span style=\"color: #000000; text-decoration-color: #000000\">        </span><span style=\"color: #008000; text-decoration-color: #008000\">'label'</span><span style=\"color: #000000; text-decoration-color: #000000\">: </span><span style=\"color: #008000; text-decoration-color: #008000\">'Trial End'</span><span style=\"color: #000000; text-decoration-color: #000000\">,</span>\n",
       "<span style=\"color: #000000; text-decoration-color: #000000\">        </span><span style=\"color: #008000; text-decoration-color: #008000\">'minute'</span><span style=\"color: #000000; text-decoration-color: #000000\">: </span><span style=\"color: #008000; text-decoration-color: #008000\">'13:04'</span>\n",
       "<span style=\"color: #000000; text-decoration-color: #000000\">    </span><span style=\"color: #000000; text-decoration-color: #000000; font-weight: bold\">}</span><span style=\"color: #000000; text-decoration-color: #000000\">,</span>\n",
       "<span style=\"color: #000000; text-decoration-color: #000000\">    </span><span style=\"color: #000000; text-decoration-color: #000000; font-weight: bold\">{</span><span style=\"color: #008000; text-decoration-color: #008000\">'response'</span><span style=\"color: #000000; text-decoration-color: #000000\">: </span><span style=\"color: #008000; text-decoration-color: #008000\">'{\"current_state\": \"Trial End\"}&lt;/s&gt;'</span><span style=\"color: #000000; text-decoration-color: #000000\">, </span><span style=\"color: #008000; text-decoration-color: #008000\">'label'</span><span style=\"color: #000000; text-decoration-color: #000000\">: </span><span style=\"color: #008000; text-decoration-color: #008000\">'Delay Start'</span><span style=\"color: #000000; text-decoration-color: #000000\">, </span><span style=\"color: #008000; text-decoration-color: #008000\">'minute'</span><span style=\"color: #000000; text-decoration-color: #000000\">: </span><span style=\"color: #008000; text-decoration-color: #008000\">'13:24'</span><span style=\"color: #000000; text-decoration-color: #000000; font-weight: bold\">}</span><span style=\"color: #000000; text-decoration-color: #000000\">,</span>\n",
       "<span style=\"color: #000000; text-decoration-color: #000000\">    </span><span style=\"color: #000000; text-decoration-color: #000000; font-weight: bold\">{</span><span style=\"color: #008000; text-decoration-color: #008000\">'response'</span><span style=\"color: #000000; text-decoration-color: #000000\">: </span><span style=\"color: #008000; text-decoration-color: #008000\">'{\"current_state\": \"Trial End\"}&lt;/s&gt;'</span>, <span style=\"color: #008000; text-decoration-color: #008000\">'label'</span>: <span style=\"color: #008000; text-decoration-color: #008000\">'Delay Start'</span>, <span style=\"color: #008000; text-decoration-color: #008000\">'minute'</span>: <span style=\"color: #008000; text-decoration-color: #008000\">'14:42'</span><span style=\"font-weight: bold\">}</span>,\n",
       "    <span style=\"font-weight: bold\">{</span>\n",
       "        <span style=\"color: #008000; text-decoration-color: #008000\">'response'</span>: <span style=\"color: #008000; text-decoration-color: #008000\">'{\"predicted_state\": \"RTB\", \"reason\": \"Radio transmissions indicate that the boats are in </span>\n",
       "<span style=\"color: #008000; text-decoration-color: #008000\">transit to their base of operations, thus signaling the end of the trials.\"}'</span>,\n",
       "        <span style=\"color: #008000; text-decoration-color: #008000\">'label'</span>: <span style=\"color: #008000; text-decoration-color: #008000\">'Delay Start'</span>,\n",
       "        <span style=\"color: #008000; text-decoration-color: #008000\">'minute'</span>: <span style=\"color: #008000; text-decoration-color: #008000\">'15:44'</span>\n",
       "    <span style=\"font-weight: bold\">}</span>\n",
       "<span style=\"font-weight: bold\">]</span>\n",
       "</pre>\n"
      ],
      "text/plain": [
       "\u001b[1m[\u001b[0m\n",
       "    \u001b[1m{\u001b[0m\u001b[32m'response'\u001b[0m: \u001b[32m'\u001b[0m\u001b[32m{\u001b[0m\u001b[32m\"current_state\": \"Trial Start\"\u001b[0m\u001b[32m}\u001b[0m\u001b[32m'\u001b[0m, \u001b[32m'label'\u001b[0m: \u001b[32m'Delay Start'\u001b[0m, \u001b[32m'minute'\u001b[0m: \u001b[32m'09:42'\u001b[0m\u001b[1m}\u001b[0m,\n",
       "    \u001b[1m{\u001b[0m\n",
       "        \u001b[32m'response'\u001b[0m: \u001b[32m'\u001b[0m\u001b[32m{\u001b[0m\u001b[32m\"predicted_state\": \"Delay End\", \"reason\": \"Radio transmission from the Test Director \u001b[0m\n",
       "\u001b[32mindicates that the delay period is over and the trial can resume.\"\u001b[0m\u001b[32m}\u001b[0m\u001b[32m'\u001b[0m,\n",
       "        \u001b[32m'label'\u001b[0m: \u001b[32m'Delay Start'\u001b[0m,\n",
       "        \u001b[32m'minute'\u001b[0m: \u001b[32m'09:50'\u001b[0m\n",
       "    \u001b[1m}\u001b[0m,\n",
       "    \u001b[1m{\u001b[0m\n",
       "        \u001b[32m'response'\u001b[0m: \u001b[32m'\u001b[0m\u001b[32m{\u001b[0m\u001b[32m\"predicted_state\": \"Trial Start\", \"reason\": \"Radio transmission from the Test Director \u001b[0m\n",
       "\u001b[32mindicates that the integration and checklist have been completed, and they are ready to start the trial.\"\u001b[0m\u001b[32m}\u001b[0m\u001b[32m<\u001b[0m\u001b[32m/s>'\u001b[0m\u001b[39m,\u001b[0m\n",
       "\u001b[39m        \u001b[0m\u001b[32m'label'\u001b[0m\u001b[39m: \u001b[0m\u001b[32m'Delay End'\u001b[0m\u001b[39m,\u001b[0m\n",
       "\u001b[39m        \u001b[0m\u001b[32m'minute'\u001b[0m\u001b[39m: \u001b[0m\u001b[32m'10:27'\u001b[0m\n",
       "\u001b[39m    \u001b[0m\u001b[1;39m}\u001b[0m\u001b[39m,\u001b[0m\n",
       "\u001b[39m    \u001b[0m\u001b[1;39m{\u001b[0m\u001b[32m'response'\u001b[0m\u001b[39m: \u001b[0m\u001b[32m'\u001b[0m\u001b[32m{\u001b[0m\u001b[32m\"current_state\": \"Trial Start\"\u001b[0m\u001b[32m}\u001b[0m\u001b[32m</s>'\u001b[0m\u001b[39m, \u001b[0m\u001b[32m'label'\u001b[0m\u001b[39m: \u001b[0m\u001b[32m'Delay Start'\u001b[0m\u001b[39m, \u001b[0m\u001b[32m'minute'\u001b[0m\u001b[39m: \u001b[0m\u001b[32m'11:55'\u001b[0m\u001b[1;39m}\u001b[0m\u001b[39m,\u001b[0m\n",
       "\u001b[39m    \u001b[0m\u001b[1;39m{\u001b[0m\n",
       "\u001b[39m        \u001b[0m\u001b[32m'response'\u001b[0m\u001b[39m: \u001b[0m\u001b[32m'\u001b[0m\u001b[32m{\u001b[0m\u001b[32m\"predicted_state\": \"RTB\", \"reason\": \"Radio transmission from the Test Director indicates that\u001b[0m\n",
       "\u001b[32mthe trial has ended and the boats are in transit to their base of operations.\"\u001b[0m\u001b[32m}\u001b[0m\u001b[32m</s>'\u001b[0m\u001b[39m,\u001b[0m\n",
       "\u001b[39m        \u001b[0m\u001b[32m'label'\u001b[0m\u001b[39m: \u001b[0m\u001b[32m'Trial End'\u001b[0m\u001b[39m,\u001b[0m\n",
       "\u001b[39m        \u001b[0m\u001b[32m'minute'\u001b[0m\u001b[39m: \u001b[0m\u001b[32m'12:00'\u001b[0m\n",
       "\u001b[39m    \u001b[0m\u001b[1;39m}\u001b[0m\u001b[39m,\u001b[0m\n",
       "\u001b[39m    \u001b[0m\u001b[1;39m{\u001b[0m\u001b[32m'response'\u001b[0m\u001b[39m: \u001b[0m\u001b[32m'\u001b[0m\u001b[32m{\u001b[0m\u001b[32m\"current_state\": \"Trial End\"\u001b[0m\u001b[32m}\u001b[0m\u001b[32m</s>'\u001b[0m\u001b[39m, \u001b[0m\u001b[32m'label'\u001b[0m\u001b[39m: \u001b[0m\u001b[32m'Trial Start'\u001b[0m\u001b[39m, \u001b[0m\u001b[32m'minute'\u001b[0m\u001b[39m: \u001b[0m\u001b[32m'12:20'\u001b[0m\u001b[1;39m}\u001b[0m\u001b[39m,\u001b[0m\n",
       "\u001b[39m    \u001b[0m\u001b[1;39m{\u001b[0m\u001b[32m'response'\u001b[0m\u001b[39m: \u001b[0m\u001b[32m'\u001b[0m\u001b[32m{\u001b[0m\u001b[32m\"current_state\": \"Trial End\"\u001b[0m\u001b[32m}\u001b[0m\u001b[32m</s>'\u001b[0m\u001b[39m, \u001b[0m\u001b[32m'label'\u001b[0m\u001b[39m: \u001b[0m\u001b[32m'Mistrial'\u001b[0m\u001b[39m, \u001b[0m\u001b[32m'minute'\u001b[0m\u001b[39m: \u001b[0m\u001b[32m'12:27'\u001b[0m\u001b[1;39m}\u001b[0m\u001b[39m,\u001b[0m\n",
       "\u001b[39m    \u001b[0m\u001b[1;39m{\u001b[0m\n",
       "\u001b[39m        \u001b[0m\u001b[32m'response'\u001b[0m\u001b[39m: \u001b[0m\u001b[32m'\u001b[0m\u001b[32m{\u001b[0m\u001b[32m\"predicted_state\": \"RTB\", \"reason\": \"Radio transmission from the Test Director indicates that\u001b[0m\n",
       "\u001b[32mall trials have ended and boats are in transit to their base of operations.\"\u001b[0m\u001b[32m}\u001b[0m\u001b[32m</s>'\u001b[0m\u001b[39m,\u001b[0m\n",
       "\u001b[39m        \u001b[0m\u001b[32m'label'\u001b[0m\u001b[39m: \u001b[0m\u001b[32m'Trial End'\u001b[0m\u001b[39m,\u001b[0m\n",
       "\u001b[39m        \u001b[0m\u001b[32m'minute'\u001b[0m\u001b[39m: \u001b[0m\u001b[32m'13:04'\u001b[0m\n",
       "\u001b[39m    \u001b[0m\u001b[1;39m}\u001b[0m\u001b[39m,\u001b[0m\n",
       "\u001b[39m    \u001b[0m\u001b[1;39m{\u001b[0m\u001b[32m'response'\u001b[0m\u001b[39m: \u001b[0m\u001b[32m'\u001b[0m\u001b[32m{\u001b[0m\u001b[32m\"current_state\": \"Trial End\"\u001b[0m\u001b[32m}\u001b[0m\u001b[32m</s>'\u001b[0m\u001b[39m, \u001b[0m\u001b[32m'label'\u001b[0m\u001b[39m: \u001b[0m\u001b[32m'Delay Start'\u001b[0m\u001b[39m, \u001b[0m\u001b[32m'minute'\u001b[0m\u001b[39m: \u001b[0m\u001b[32m'13:24'\u001b[0m\u001b[1;39m}\u001b[0m\u001b[39m,\u001b[0m\n",
       "\u001b[39m    \u001b[0m\u001b[1;39m{\u001b[0m\u001b[32m'response'\u001b[0m\u001b[39m: \u001b[0m\u001b[32m'\u001b[0m\u001b[32m{\u001b[0m\u001b[32m\"current_state\": \"Trial End\"\u001b[0m\u001b[32m}\u001b[0m\u001b[32m</s\u001b[0m\u001b[32m>\u001b[0m\u001b[32m'\u001b[0m, \u001b[32m'label'\u001b[0m: \u001b[32m'Delay Start'\u001b[0m, \u001b[32m'minute'\u001b[0m: \u001b[32m'14:42'\u001b[0m\u001b[1m}\u001b[0m,\n",
       "    \u001b[1m{\u001b[0m\n",
       "        \u001b[32m'response'\u001b[0m: \u001b[32m'\u001b[0m\u001b[32m{\u001b[0m\u001b[32m\"predicted_state\": \"RTB\", \"reason\": \"Radio transmissions indicate that the boats are in \u001b[0m\n",
       "\u001b[32mtransit to their base of operations, thus signaling the end of the trials.\"\u001b[0m\u001b[32m}\u001b[0m\u001b[32m'\u001b[0m,\n",
       "        \u001b[32m'label'\u001b[0m: \u001b[32m'Delay Start'\u001b[0m,\n",
       "        \u001b[32m'minute'\u001b[0m: \u001b[32m'15:44'\u001b[0m\n",
       "    \u001b[1m}\u001b[0m\n",
       "\u001b[1m]\u001b[0m\n"
      ]
     },
     "metadata": {},
     "output_type": "display_data"
    }
   ],
   "source": [
    "print(parse_test_results(test))"
=======
    "for i, data_point in enumerate(labeled_data_dicts[1:]):\n",
    "    label = data_point['label']\n",
    "    text = data_point['text']\n",
    "    initial_state = \"Trial Start\"\n",
    "    state = initial_state if i == 0 else ordered_labels[i]\n",
    "    response = chat_completion(state, text, max_tokens=250)\n",
    "    print(f'Predicted Response: {response}')\n",
    "    print(f'Ground Truth: {text, label}')\n",
    "    print('-'*100)"
>>>>>>> af1d452 (post rebase conflict)
   ]
  },
  {
   "cell_type": "code",
   "execution_count": null,
<<<<<<< HEAD
   "id": "d3b8a33a-78eb-438e-9e8c-208e2b4035bc",
=======
   "id": "e345ef39-58ca-444c-997c-7c71febf0269",
>>>>>>> af1d452 (post rebase conflict)
   "metadata": {},
   "outputs": [],
   "source": []
  }
 ],
 "metadata": {
  "kernelspec": {
   "display_name": "leapfrog",
   "language": "python",
   "name": "leapfrog"
  },
  "language_info": {
   "codemirror_mode": {
    "name": "ipython",
    "version": 3
   },
   "file_extension": ".py",
   "mimetype": "text/x-python",
   "name": "python",
   "nbconvert_exporter": "python",
   "pygments_lexer": "ipython3",
   "version": "3.11.9"
  }
 },
 "nbformat": 4,
 "nbformat_minor": 5
}
